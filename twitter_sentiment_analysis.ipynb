{
  "nbformat": 4,
  "nbformat_minor": 0,
  "metadata": {
    "kernelspec": {
      "display_name": "Python 3",
      "language": "python",
      "name": "python3"
    },
    "language_info": {
      "codemirror_mode": {
        "name": "ipython",
        "version": 3
      },
      "file_extension": ".py",
      "mimetype": "text/x-python",
      "name": "python",
      "nbconvert_exporter": "python",
      "pygments_lexer": "ipython3",
      "version": "3.7.6"
    },
    "colab": {
      "name": "twitter_sentiment_analysis.ipynb",
      "provenance": [],
      "include_colab_link": true
    }
  },
  "cells": [
    {
      "cell_type": "markdown",
      "metadata": {
        "id": "view-in-github",
        "colab_type": "text"
      },
      "source": [
        "<a href=\"https://colab.research.google.com/github/meskineayoub/notebook/blob/master/twitter_sentiment_analysis.ipynb\" target=\"_parent\"><img src=\"https://colab.research.google.com/assets/colab-badge.svg\" alt=\"Open In Colab\"/></a>"
      ]
    },
    {
      "cell_type": "code",
      "metadata": {
        "id": "gh_YifLoGHNv",
        "colab_type": "code",
        "colab": {},
        "outputId": "251fdd13-be95-444f-cb42-ce4aa19dca56"
      },
      "source": [
        "from IPython.display import Image\n",
        "Image(\"fsrr.jpg\", width = 600, height = 300)"
      ],
      "execution_count": null,
      "outputs": [
        {
          "output_type": "execute_result",
          "data": {
            "image/jpeg": "[encoded data removed]",
            "text/plain": [
              "<IPython.core.display.Image object>"
            ]
          },
          "metadata": {
            "tags": [],
            "image/jpeg": {
              "height": 300,
              "width": 600
            }
          },
          "execution_count": 60
        }
      ]
    },
    {
      "cell_type": "markdown",
      "metadata": {
        "id": "wj3S9jmRGHOG",
        "colab_type": "text"
      },
      "source": [
        "# Projet Twitter sentiments analysis \n",
        "     by Abraca-data team\n",
        "     \n",
        "                           Réalisé par : Ayoub Meskine & Brahim Zaoug\n",
        "                           Encadré par : Mr Abdelhak Mahmoudi"
      ]
    },
    {
      "cell_type": "markdown",
      "metadata": {
        "id": "PRtQcuaVGHOH",
        "colab_type": "text"
      },
      "source": [
        "# Résumé\n",
        "L'analyse des sentiments est une technologie d'analyse automatique des discours, écrits ou parlés dans le but consiste à extraire des informations subjectives comme les jugements, des évaluations ou des émotions pour détecter la polarité d'une opinion.\n",
        "L’importance de l'analyse des sentiments, est présente dans plusieurs domaines à savoir politique marketing, gestion de la réputation.\n",
        "Dans ce Project. Notre objectif consiste à réaliser un models classifieur capable à faire des prédiction des sentiments en le l'appliquant sur le cas de Twitter en adoptant une approche pour l'apprentissage automatique.\n",
        "Pour ce faire nous avons implémenté la méthode probabiliste Naïve Bayes et Logistic Regression sur Tweeter en utilisant la bibliothèque tweepy de Python. Nous avons considéré le modèle de représentation des données sémantique avec la pondération TF-IDF(Terme Frequency - Inverse Document Frequency)."
      ]
    },
    {
      "cell_type": "markdown",
      "metadata": {
        "id": "lLrIUmr4GHOO",
        "colab_type": "text"
      },
      "source": [
        "# Import Libraries"
      ]
    },
    {
      "cell_type": "code",
      "metadata": {
        "id": "KXQON1jIGHOQ",
        "colab_type": "code",
        "colab": {
          "base_uri": "https://localhost:8080/",
          "height": 69
        },
        "outputId": "2dbb7679-2905-4d37-990a-cbc2924b2e64"
      },
      "source": [
        "from sklearn import metrics\n",
        "import re\n",
        "import pickle\n",
        "import nltk\n",
        "from nltk.corpus import stopwords\n",
        "from sklearn.datasets import load_files\n",
        "import tweepy\n",
        "from tweepy import OAuthHandler\n",
        "import matplotlib.pyplot as plt\n",
        "import numpy as np\n",
        "nltk.download('stopwords')\n"
      ],
      "execution_count": 1,
      "outputs": [
        {
          "output_type": "stream",
          "text": [
            "[nltk_data] Downloading package stopwords to /root/nltk_data...\n",
            "[nltk_data]   Unzipping corpora/stopwords.zip.\n"
          ],
          "name": "stdout"
        },
        {
          "output_type": "execute_result",
          "data": {
            "text/plain": [
              "True"
            ]
          },
          "metadata": {
            "tags": []
          },
          "execution_count": 1
        }
      ]
    },
    {
      "cell_type": "markdown",
      "metadata": {
        "id": "clUGbiF9GHOZ",
        "colab_type": "text"
      },
      "source": [
        "# Import dataset"
      ]
    },
    {
      "cell_type": "code",
      "metadata": {
        "id": "y_duuO0tGHOa",
        "colab_type": "code",
        "colab": {}
      },
      "source": [
        "reviews = load_files('tokens/')\n",
        "\n",
        "x,y = reviews.data,reviews.target"
      ],
      "execution_count": null,
      "outputs": []
    },
    {
      "cell_type": "markdown",
      "metadata": {
        "id": "_2RbZRIGGHOi",
        "colab_type": "text"
      },
      "source": [
        "# Enregistrer les resultat dans un ficher"
      ]
    },
    {
      "cell_type": "code",
      "metadata": {
        "id": "xpEd9eETUWRJ",
        "colab_type": "code",
        "colab": {
          "base_uri": "https://localhost:8080/",
          "height": 124
        },
        "outputId": "cf4481db-4cbc-48bc-bea0-32803686c250"
      },
      "source": [
        "from google.colab import drive\n",
        "drive.mount('/content/drive')"
      ],
      "execution_count": 3,
      "outputs": [
        {
          "output_type": "stream",
          "text": [
            "Go to this URL in a browser: https://accounts.google.com/o/oauth2/auth?client_id=947318989803-6bn6qk8qdgf4n4g3pfee6491hc0brc4i.apps.googleusercontent.com&redirect_uri=urn%3aietf%3awg%3aoauth%3a2.0%3aoob&response_type=code&scope=email%20https%3a%2f%2fwww.googleapis.com%2fauth%2fdocs.test%20https%3a%2f%2fwww.googleapis.com%2fauth%2fdrive%20https%3a%2f%2fwww.googleapis.com%2fauth%2fdrive.photos.readonly%20https%3a%2f%2fwww.googleapis.com%2fauth%2fpeopleapi.readonly\n",
            "\n",
            "Enter your authorization code:\n",
            "··········\n",
            "Mounted at /content/drive\n"
          ],
          "name": "stdout"
        }
      ]
    },
    {
      "cell_type": "code",
      "metadata": {
        "id": "VrbG8P3bGHOk",
        "colab_type": "code",
        "colab": {}
      },
      "source": [
        " with open('/content/drive/My Drive/twitter_sentiment_analysis/x.pickle','wb') as f:\n",
        "    pickle.dump(x,f)\n",
        "\n",
        "with open('/content/drive/My Drive/twitter_sentiment_analysis/y.pickle','wb') as f:\n",
        "    pickle.dump(y,f)\n",
        "    \n",
        "    "
      ],
      "execution_count": null,
      "outputs": []
    },
    {
      "cell_type": "markdown",
      "metadata": {
        "id": "JGMxObPBGHOr",
        "colab_type": "text"
      },
      "source": [
        "# Unpicking the data "
      ]
    },
    {
      "cell_type": "code",
      "metadata": {
        "id": "rpo3BQikGHOt",
        "colab_type": "code",
        "colab": {}
      },
      "source": [
        "with open('/content/drive/My Drive/twitter_sentiment_analysis/x.pickle','rb') as f:\n",
        "    x=pickle.load(f)\n",
        "    \n",
        "with open('/content/drive/My Drive/twitter_sentiment_analysis/y.pickle','rb') as f:\n",
        "    y=pickle.load(f)\n"
      ],
      "execution_count": null,
      "outputs": []
    },
    {
      "cell_type": "markdown",
      "metadata": {
        "id": "R-lVir4aGHO1",
        "colab_type": "text"
      },
      "source": [
        "# Creating corpus"
      ]
    },
    {
      "cell_type": "code",
      "metadata": {
        "id": "Mp7H459OGHO3",
        "colab_type": "code",
        "colab": {}
      },
      "source": [
        "corpus = []\n",
        "for i in range(0,len(x)):\n",
        "    review = re.sub(r'\\W',' ',str(x[i]))\n",
        "    review = review.lower()\n",
        "    review = re.sub(r'\\s+[a-z]\\s+',' ',review)\n",
        "    review = re.sub(r'^[a-z]\\s+',' ',review)\n",
        "    review=re.sub(r\"\\d\",\" \",review)\n",
        "    corpus.append(review)\n",
        "    "
      ],
      "execution_count": null,
      "outputs": []
    },
    {
      "cell_type": "markdown",
      "metadata": {
        "id": "vdQF9uw-GHO8",
        "colab_type": "text"
      },
      "source": [
        "# Create the Tf_idf model"
      ]
    },
    {
      "cell_type": "code",
      "metadata": {
        "id": "LiSv5QqeGHO9",
        "colab_type": "code",
        "colab": {}
      },
      "source": [
        "from sklearn.feature_extraction.text import TfidfVectorizer\n",
        "vectorizer = TfidfVectorizer(max_features=26400,min_df=3,max_df=0.6,stop_words=stopwords.words('english'))\n",
        "x=vectorizer.fit_transform(corpus).toarray()\n"
      ],
      "execution_count": null,
      "outputs": []
    },
    {
      "cell_type": "markdown",
      "metadata": {
        "id": "QSW1vC7RGHPE",
        "colab_type": "text"
      },
      "source": [
        "# Split the data to train and test sets"
      ]
    },
    {
      "cell_type": "code",
      "metadata": {
        "id": "9GDq9JubGHPG",
        "colab_type": "code",
        "colab": {}
      },
      "source": [
        "from sklearn.model_selection import train_test_split\n",
        "text_train,text_test,sent_train,sent_test=train_test_split(x,y,test_size=0.2,random_state=0)\n"
      ],
      "execution_count": null,
      "outputs": []
    },
    {
      "cell_type": "markdown",
      "metadata": {
        "id": "3xl7DDroGHPL",
        "colab_type": "text"
      },
      "source": [
        "# Training the models Naîve Bayes and Logistic Regression"
      ]
    },
    {
      "cell_type": "markdown",
      "metadata": {
        "id": "htLsA4EtGHPN",
        "colab_type": "text"
      },
      "source": [
        "### Fit the logistic regression algorithme"
      ]
    },
    {
      "cell_type": "code",
      "metadata": {
        "id": "nAMjN9LUGHPP",
        "colab_type": "code",
        "colab": {},
        "outputId": "85f3f727-072a-4d1b-fb48-2f54eec95705"
      },
      "source": [
        "from sklearn.linear_model import LogisticRegression\n",
        "classifierL =LogisticRegression()\n",
        "classifierL.fit(text_train,sent_train)"
      ],
      "execution_count": null,
      "outputs": [
        {
          "output_type": "execute_result",
          "data": {
            "text/plain": [
              "MultinomialNB()"
            ]
          },
          "metadata": {
            "tags": []
          },
          "execution_count": 9
        }
      ]
    },
    {
      "cell_type": "markdown",
      "metadata": {
        "id": "wJGDt4k0GHPW",
        "colab_type": "text"
      },
      "source": [
        "### Fit the naîve bayes algorithme"
      ]
    },
    {
      "cell_type": "code",
      "metadata": {
        "id": "rhNRX-C1GHPX",
        "colab_type": "code",
        "colab": {}
      },
      "source": [
        "from sklearn.naive_bayes import MultinomialNB\n",
        "classifierB = MultinomialNB()\n",
        "classifierB.fit(text_train,sent_train)"
      ],
      "execution_count": null,
      "outputs": []
    },
    {
      "cell_type": "markdown",
      "metadata": {
        "id": "OW2Tl7gfGHPe",
        "colab_type": "text"
      },
      "source": [
        "# Test performence\n",
        "#### Comparaison entre Logistic Regression et Naîve Bayes en utilisonts la matrice de confusion et fscore recall occurity pressision "
      ]
    },
    {
      "cell_type": "code",
      "metadata": {
        "id": "qhv7PxnAGHPg",
        "colab_type": "code",
        "colab": {},
        "outputId": "d00cf626-26db-4656-a438-480e2392cb8e"
      },
      "source": [
        "sent_predB = classifierB.predict(text_test)\n",
        "sent_predL= classifierL.predict(text_test)\n",
        "\n",
        "from sklearn.metrics import confusion_matrix\n",
        "cmB=confusion_matrix(sent_test,sent_predB)\n",
        "cmL=confusion_matrix(sent_test,sent_predL)\n",
        "print(\"matrice de confusion NaïveBayes\\n\",cmB)\n",
        "print(\"\\nmatrice de confusion Logistique Régression\\n\",cmL)\n",
        " \n",
        "VPB=cmB[0,0]\n",
        "FPB=cmB[0,1]\n",
        "FNB=cmB[1,0]\n",
        "VNB=cmB[1,1]\n",
        "\n",
        "\n",
        "VPL=cmL[0,0]\n",
        "FPL=cmL[0,1]\n",
        "FNL=cmL[1,0]\n",
        "VNL=cmL[1,1]\n",
        "\n",
        "\n",
        "PrecisionB=VPB/(VPB+FPB)\n",
        "RappelB=VPB/(VPB+FNB)\n",
        "F1_mesureB=2*PrecisionB*RappelB/(PrecisionB+RappelB)\n",
        "\n",
        "\n",
        "PrecisionL=VPL/(VPL+FPL)\n",
        "RappelL=VPB/(VPL+FNL)\n",
        "F1_mesureL=2*PrecisionL*RappelL/(PrecisionL+RappelL)\n",
        "\n",
        "\n",
        "print(\"precession Naïve Bayes: \",PrecisionB)\n",
        "print(\"pricession Logistique Regression: \",PrecisionL)\n",
        "print(\"Rappel de Naïve Bayes: \",RappelB)\n",
        "print(\"Rappel de Logistique Regression: \",RappelL)\n",
        "print(\"F1_mesure de Naïve Bayes: \",F1_mesureB)\n",
        "print(\"F1_mesure de Logistique Regression: \",F1_mesureL)\n",
        "\n"
      ],
      "execution_count": null,
      "outputs": [
        {
          "output_type": "stream",
          "text": [
            "table de confusion NaïveBayes\n",
            " [[2311  331]\n",
            " [ 350 2288]]\n",
            "\n",
            "table de confusion Logistique Régression\n",
            " [[2314  328]\n",
            " [ 241 2397]]\n",
            "precession Naïve Bayes:  0.8747161241483724\n",
            "pricession Logistique Regression:  0.8758516275548827\n",
            "Rappel de Naïve Bayes:  0.8684704998121007\n",
            "Rappel de Logistique Regression:  0.9045009784735812\n",
            "F1_mesure de Naïve Bayes:  0.8715821233264189\n",
            "F1_mesure de Logistique Regression:  0.8899457910063062\n"
          ],
          "name": "stdout"
        }
      ]
    },
    {
      "cell_type": "markdown",
      "metadata": {
        "id": "iwS7ogg2GHPm",
        "colab_type": "text"
      },
      "source": [
        "# Pickling the classifiers Logistic and Bayes and victorizer"
      ]
    },
    {
      "cell_type": "code",
      "metadata": {
        "id": "ivW7laqtGHPn",
        "colab_type": "code",
        "colab": {}
      },
      "source": [
        "with open('classifierB.pickle','wb') as f:\n",
        "    pickle.dump(classifierB,f)\n",
        "   \n",
        "#Pickling the classifire Logistic \n",
        "with open('classifierL.pickle','wb') as f:\n",
        "    pickle.dump(classifierL,f)\n",
        "    \n",
        "#pickling the vectorizer\n",
        "with open('tfidfmodel.pickle','wb') as f:\n",
        "        pickle.dump(vectorizer,f)\n",
        "     \n"
      ],
      "execution_count": null,
      "outputs": []
    },
    {
      "cell_type": "markdown",
      "metadata": {
        "id": "up8gv-psGHPs",
        "colab_type": "text"
      },
      "source": [
        "# Importer et utilisée le modèle classifieur\n",
        "### unpickling the classifire and vectorizer"
      ]
    },
    {
      "cell_type": "code",
      "metadata": {
        "id": "oT8lxNy4GHPu",
        "colab_type": "code",
        "colab": {
          "base_uri": "https://localhost:8080/",
          "height": 193
        },
        "outputId": "62fe16a5-0edb-43b1-cfbd-ef394ae8c503"
      },
      "source": [
        "import pickle\n",
        "drive.mount('/content/drive/')\n",
        "with open('/content/drive/My Drive/twitter_sentiment_analysis/classifierL.pickle','rb') as f:\n",
        "    clfL=pickle.load(f)\n",
        "    \n",
        "with open('/content/drive/My Drive/twitter_sentiment_analysis/classifierB.pickle','rb') as f:\n",
        "        clfB=pickle.load(f)\n",
        "        \n",
        "with open('/content/drive/My Drive/twitter_sentiment_analysis/tfidfmodel.pickle','rb') as f:\n",
        "    tfidf=pickle.load(f)\n",
        "    "
      ],
      "execution_count": 4,
      "outputs": [
        {
          "output_type": "stream",
          "text": [
            "Drive already mounted at /content/drive/; to attempt to forcibly remount, call drive.mount(\"/content/drive/\", force_remount=True).\n"
          ],
          "name": "stdout"
        },
        {
          "output_type": "stream",
          "text": [
            "/usr/local/lib/python3.6/dist-packages/sklearn/base.py:318: UserWarning: Trying to unpickle estimator LogisticRegression from version 0.23.1 when using version 0.22.2.post1. This might lead to breaking code or invalid results. Use at your own risk.\n",
            "  UserWarning)\n",
            "/usr/local/lib/python3.6/dist-packages/sklearn/base.py:318: UserWarning: Trying to unpickle estimator MultinomialNB from version 0.23.1 when using version 0.22.2.post1. This might lead to breaking code or invalid results. Use at your own risk.\n",
            "  UserWarning)\n",
            "/usr/local/lib/python3.6/dist-packages/sklearn/base.py:318: UserWarning: Trying to unpickle estimator TfidfTransformer from version 0.23.1 when using version 0.22.2.post1. This might lead to breaking code or invalid results. Use at your own risk.\n",
            "  UserWarning)\n",
            "/usr/local/lib/python3.6/dist-packages/sklearn/base.py:318: UserWarning: Trying to unpickle estimator TfidfVectorizer from version 0.23.1 when using version 0.22.2.post1. This might lead to breaking code or invalid results. Use at your own risk.\n",
            "  UserWarning)\n"
          ],
          "name": "stderr"
        }
      ]
    },
    {
      "cell_type": "markdown",
      "metadata": {
        "id": "eg4iK4YOGHP0",
        "colab_type": "text"
      },
      "source": [
        "# Test du modèle"
      ]
    },
    {
      "cell_type": "code",
      "metadata": {
        "id": "23c0s3jyGHP2",
        "colab_type": "code",
        "colab": {
          "base_uri": "https://localhost:8080/",
          "height": 156
        },
        "outputId": "afb7c20f-5a77-43b0-f17d-e7dd0bf9c3bf"
      },
      "source": [
        "\n",
        "test =[\"you the man\"]\n",
        "test=tfidf.transform(test).toarray()\n",
        "sentB = clfB.predict(test)\n",
        "sentL = clfL.predict(test)\n",
        "print(\"<<phrase polarity en utilisant bayes>>\\n\")\n",
        "if sentB[0] == 1:\n",
        "            print(\"la phrase que vous avez entrée est positive\")\n",
        "else:\n",
        "       print(\"la phrase que vous avez entrée est négative\\n\")\n",
        "\n",
        "print(\"\\n<<phrase polarity en utilisant Logistque Regression>>\\n\")\n",
        "if sentL[0] == 1:\n",
        "            print(\"la phrase que vous avez entrée est positive\\n\")\n",
        "else:\n",
        "       print(\"la phrase que vous avez entrée est négative\\n\")\n",
        "\n",
        "       \n",
        "       "
      ],
      "execution_count": 5,
      "outputs": [
        {
          "output_type": "stream",
          "text": [
            "<<phrase polarity en utilisant bayes>>\n",
            "\n",
            "la phrase que vous avez entrée est positive\n",
            "\n",
            "<<phrase polarity en utilisant Logistque Regression>>\n",
            "\n",
            "la phrase que vous avez entrée est positive\n",
            "\n"
          ],
          "name": "stdout"
        }
      ]
    },
    {
      "cell_type": "markdown",
      "metadata": {
        "id": "ZUjL8xinGHP7",
        "colab_type": "text"
      },
      "source": [
        "# Application du modèle classifieur sur les données extrer d'après twetter   "
      ]
    },
    {
      "cell_type": "markdown",
      "metadata": {
        "id": "2_i2NZRgGHP7",
        "colab_type": "text"
      },
      "source": [
        "# Initialising the keys"
      ]
    },
    {
      "cell_type": "code",
      "metadata": {
        "id": "yWfhWxrgGHP9",
        "colab_type": "code",
        "colab": {}
      },
      "source": [
        "consumer_key='A7zEJHYcutt3U37c4JEEcSXtA'\n",
        "consumer_secret='ZCseQI6Tvo604hLNt2nXwpTLKqtx8bQwXgpbkeAVnodyoanORw'\n",
        "access_token='1107606361901289472-1g12pcv7I03dzzPAvqVBNqtUidDItP'\n",
        "access_secret='OMEha5VviMEmf8mBSDNhGjh17Z6qXtd8Ea6sCPtdboLOl'\n",
        "auth = OAuthHandler(consumer_key,consumer_secret)\n",
        "auth.set_access_token(access_token,access_secret)"
      ],
      "execution_count": 6,
      "outputs": []
    },
    {
      "cell_type": "markdown",
      "metadata": {
        "id": "oGjwva2oGHQD",
        "colab_type": "text"
      },
      "source": [
        "# Extraction des tweets"
      ]
    },
    {
      "cell_type": "code",
      "metadata": {
        "id": "6yp2AXenGHQD",
        "colab_type": "code",
        "colab": {}
      },
      "source": [
        "args = ['corona virus']\n",
        "api = tweepy.API(auth,timeout=10)\n",
        "\n",
        "list_tweets = []\n",
        "\n",
        "query = args[0]\n",
        "\n",
        "if len(args) == 1:\n",
        "    for status in tweepy.Cursor(api.search,q=query+\" -filter:retweets\",lang='en',result_type='re').items(1000):\n",
        "        list_tweets.append(status.text)\n"
      ],
      "execution_count": 24,
      "outputs": []
    },
    {
      "cell_type": "markdown",
      "metadata": {
        "id": "iAmLlpPNGHQI",
        "colab_type": "text"
      },
      "source": [
        "# Nettoyage des tweets et prediction des sentiments"
      ]
    },
    {
      "cell_type": "code",
      "metadata": {
        "id": "hSIvWETzGHQI",
        "colab_type": "code",
        "colab": {
          "base_uri": "https://localhost:8080/",
          "height": 1000
        },
        "outputId": "ed51d7fe-2c62-42f3-db76-96289bde15fb"
      },
      "source": [
        "\n",
        "total_posB = 0\n",
        "total_posL= 0\n",
        "total_negL=0\n",
        "total_negB = 0\n",
        "\n",
        "for tweet in list_tweets:\n",
        "    tweetOr=tweet\n",
        "    tweet=re.sub(r\"^https://t.co/[a-zA-z0-9]*\",\" \",tweet)\n",
        "    tweet=re.sub(r\"\\s+https://t.co/[a-zA-Z0-9]*\\s\",\" \",tweet)\n",
        "    tweet=re.sub(r\"\\s+https://t.co/[a-zA-Z0-9]*$\",\" \",tweet)\n",
        "    tweet=tweet.lower()\n",
        "    tweet=re.sub(r\"that's\",\"that is\",tweet)\n",
        "    tweet=re.sub(r\"there's\",\"there is\",tweet)\n",
        "    tweet=re.sub(r\"what's\",\"what is\",tweet)\n",
        "    tweet=re.sub(r\"where's\",\"where is\",tweet)\n",
        "    tweet=re.sub(r\"it's\",\"it is\",tweet)\n",
        "    tweet=re.sub(r\"who's\",\"who is \",tweet)\n",
        "    tweet=re.sub(r\"i'm\",\"i am\",tweet)\n",
        "    tweet=re.sub(r\"she's\",\"she is\",tweet)\n",
        "    tweet=re.sub(r\"they're\",\"they are\",tweet)\n",
        "    tweet=re.sub(r\"ain't\",\"am not\",tweet)\n",
        "    tweet=re.sub(r\"wouldn't\",\"would not\",tweet)\n",
        "    tweet=re.sub(r\"shouldn't\",\"should not\",tweet)\n",
        "    tweet=re.sub(r\"can't\",\"can not\",tweet)\n",
        "    tweet=re.sub(r\"couldn't\",\"could not\",tweet)\n",
        "    tweet=re.sub(r\"won't\",\"will not\",tweet)\n",
        "    tweet=re.sub(r\"\\W\",\" \",tweet)\n",
        "    tweet=re.sub(r\"\\d\",\" \",tweet)\n",
        "    tweet=re.sub(r\"s+[a-z]\\s+\",\" \",tweet)\n",
        "    tweet=re.sub(r\"s+[a-z]\\$\",\" \",tweet)\n",
        "    tweet=re.sub(r\"^[a-z]\\s+\",\" \",tweet)\n",
        "    tweet=re.sub(r\"\\s+\",\" \",tweet)\n",
        "    sentB = clfB.predict(tfidf.transform([tweet]).toarray())\n",
        "    sentL = clfL.predict(tfidf.transform([tweet]).toarray())\n",
        "    if sentB[0] == 1:\n",
        "        total_posB+=1    \n",
        "    else:\n",
        "        total_negB+=1\n",
        "        \n",
        "    print(\"\\n<<<<<:::::::Bayes polarity :::::::::>>>> \",sentB[0],'\\n',tweet,'\\n\\n',\"<<<<<<<:::::::Logistic polarity::::::::::::>>>> \",sentL[0],'\\n',tweet)\n",
        "    if sentL[0] == 1:\n",
        "        total_posL+=1    \n",
        "    else:\n",
        "        total_negL+=1\n"
      ],
      "execution_count": 21,
      "outputs": [
        {
          "output_type": "stream",
          "text": [
            "\n",
            "<<<<<:::::::Bayes polarity :::::::::>>>>  1 \n",
            "  inevitable_et fbi love it corona adds a beautiful touch drink it up it is a beer not a deadly virus  \n",
            "\n",
            " <<<<<<<:::::::Logistic polarity::::::::::::>>>>  1 \n",
            "  inevitable_et fbi love it corona adds a beautiful touch drink it up it is a beer not a deadly virus \n",
            "\n",
            "<<<<<:::::::Bayes polarity :::::::::>>>>  1 \n",
            "  anitha_tdp vsreddy_mp the corona lockdown period was al good when traveling around the country like a national  \n",
            "\n",
            " <<<<<<<:::::::Logistic polarity::::::::::::>>>>  1 \n",
            "  anitha_tdp vsreddy_mp the corona lockdown period was al good when traveling around the country like a national \n",
            "\n",
            "<<<<<:::::::Bayes polarity :::::::::>>>>  1 \n",
            "  davidmweissman it seems the or million mortality number was a reference to an estimate of how many could die i  \n",
            "\n",
            " <<<<<<<:::::::Logistic polarity::::::::::::>>>>  0 \n",
            "  davidmweissman it seems the or million mortality number was a reference to an estimate of how many could die i \n",
            "\n",
            "<<<<<:::::::Bayes polarity :::::::::>>>>  0 \n",
            "  naomi_long bordersolution_ bartlad simoncoveney dfatirl lets all do our bit to defeat corona virus  \n",
            "\n",
            " <<<<<<<:::::::Logistic polarity::::::::::::>>>>  1 \n",
            "  naomi_long bordersolution_ bartlad simoncoveney dfatirl lets all do our bit to defeat corona virus \n",
            "\n",
            "<<<<<:::::::Bayes polarity :::::::::>>>>  0 \n",
            "  realdonaldtrump it is not the china virus covid means corona virus how can the president with all the  \n",
            "\n",
            " <<<<<<<:::::::Logistic polarity::::::::::::>>>>  0 \n",
            "  realdonaldtrump it is not the china virus covid means corona virus how can the president with all the \n",
            "\n",
            "<<<<<:::::::Bayes polarity :::::::::>>>>  0 \n",
            "  spectatorindex russia stole uk corona virus research china stole us corona virus research the we cannot be any shameless \n",
            "\n",
            " <<<<<<<:::::::Logistic polarity::::::::::::>>>>  0 \n",
            "  spectatorindex russia stole uk corona virus research china stole us corona virus research the we cannot be any shameless\n",
            "\n",
            "<<<<<:::::::Bayes polarity :::::::::>>>>  1 \n",
            " can someone make draw a cartoon featuring pig pen and the du funk cloud swirling around him is corona virus he g  \n",
            "\n",
            " <<<<<<<:::::::Logistic polarity::::::::::::>>>>  0 \n",
            " can someone make draw a cartoon featuring pig pen and the du funk cloud swirling around him is corona virus he g \n",
            "\n",
            "<<<<<:::::::Bayes polarity :::::::::>>>>  0 \n",
            " education minister is trying to spread corona virus he may have target if he spreads virus he will get reward fro  \n",
            "\n",
            " <<<<<<<:::::::Logistic polarity::::::::::::>>>>  0 \n",
            " education minister is trying to spread corona virus he may have target if he spreads virus he will get reward fro \n",
            "\n",
            "<<<<<:::::::Bayes polarity :::::::::>>>>  0 \n",
            "  standardnews you mean ju like the common cold which of caused by corona virus or do you mean like the flu whic  \n",
            "\n",
            " <<<<<<<:::::::Logistic polarity::::::::::::>>>>  0 \n",
            "  standardnews you mean ju like the common cold which of caused by corona virus or do you mean like the flu whic \n",
            "\n",
            "<<<<<:::::::Bayes polarity :::::::::>>>>  1 \n",
            "  flora aisha_is_love_ twittersupport twittersafety i do what i think is the be i don t spread corona  \n",
            "\n",
            " <<<<<<<:::::::Logistic polarity::::::::::::>>>>  1 \n",
            "  flora aisha_is_love_ twittersupport twittersafety i do what i think is the be i don t spread corona \n",
            "\n",
            "<<<<<:::::::Bayes polarity :::::::::>>>>  0 \n",
            "  bymikebaker all the corona virus lockdowns created this me all the people are unemployed employed people go to work  \n",
            "\n",
            " <<<<<<<:::::::Logistic polarity::::::::::::>>>>  0 \n",
            "  bymikebaker all the corona virus lockdowns created this me all the people are unemployed employed people go to work \n",
            "\n",
            "<<<<<:::::::Bayes polarity :::::::::>>>>  0 \n",
            "  patrick kalyp justin lee itsjefftiedrich realdonaldtrump then you did not watch every single on  \n",
            "\n",
            " <<<<<<<:::::::Logistic polarity::::::::::::>>>>  0 \n",
            "  patrick kalyp justin lee itsjefftiedrich realdonaldtrump then you did not watch every single on \n",
            "\n",
            "<<<<<:::::::Bayes polarity :::::::::>>>>  0 \n",
            " stupid corona virus plea go away \n",
            "\n",
            " <<<<<<<:::::::Logistic polarity::::::::::::>>>>  0 \n",
            " stupid corona virus plea go away\n",
            "\n",
            "<<<<<:::::::Bayes polarity :::::::::>>>>  0 \n",
            "  scale_banana engineers_feed and cures corona virus  \n",
            "\n",
            " <<<<<<<:::::::Logistic polarity::::::::::::>>>>  0 \n",
            "  scale_banana engineers_feed and cures corona virus \n",
            "\n",
            "<<<<<:::::::Bayes polarity :::::::::>>>>  0 \n",
            "  itsjefftiedrich an inept potus with an uncanny ability to look amp sound stupid at every given opportunity an ine  \n",
            "\n",
            " <<<<<<<:::::::Logistic polarity::::::::::::>>>>  0 \n",
            "  itsjefftiedrich an inept potus with an uncanny ability to look amp sound stupid at every given opportunity an ine \n",
            "\n",
            "<<<<<:::::::Bayes polarity :::::::::>>>>  1 \n",
            "  btsportboxing if it wa t for this virus we be watching joe joyce v dubois fu corona  \n",
            "\n",
            " <<<<<<<:::::::Logistic polarity::::::::::::>>>>  0 \n",
            "  btsportboxing if it wa t for this virus we be watching joe joyce v dubois fu corona \n",
            "\n",
            "<<<<<:::::::Bayes polarity :::::::::>>>>  0 \n",
            "  murthyscribe vsreddy_mp corona virus or kamma virus karma is a bitch what goes around comes around btw get well soon v  \n",
            "\n",
            " <<<<<<<:::::::Logistic polarity::::::::::::>>>>  0 \n",
            "  murthyscribe vsreddy_mp corona virus or kamma virus karma is a bitch what goes around comes around btw get well soon v \n",
            "\n",
            "<<<<<:::::::Bayes polarity :::::::::>>>>  0 \n",
            "  realdonaldtrump you really need to look at the statistics over million americans infected with the corona virus  \n",
            "\n",
            " <<<<<<<:::::::Logistic polarity::::::::::::>>>>  0 \n",
            "  realdonaldtrump you really need to look at the statistics over million americans infected with the corona virus \n",
            "\n",
            "<<<<<:::::::Bayes polarity :::::::::>>>>  0 \n",
            "  yamiche acosta presssec if they all died of corona virus i would agree but they didn t thanks for the misinfo  \n",
            "\n",
            " <<<<<<<:::::::Logistic polarity::::::::::::>>>>  0 \n",
            "  yamiche acosta presssec if they all died of corona virus i would agree but they didn t thanks for the misinfo \n",
            "\n",
            "<<<<<:::::::Bayes polarity :::::::::>>>>  1 \n",
            "  cpapennewell hkrassenstein realdonaldtrump how do you know that china only discovered the new corona virus and  \n",
            "\n",
            " <<<<<<<:::::::Logistic polarity::::::::::::>>>>  1 \n",
            "  cpapennewell hkrassenstein realdonaldtrump how do you know that china only discovered the new corona virus and \n",
            "\n",
            "<<<<<:::::::Bayes polarity :::::::::>>>>  0 \n",
            "  gwlauren smartdissent all the repub run states are failing badly re the corona virus send in the national health police  \n",
            "\n",
            " <<<<<<<:::::::Logistic polarity::::::::::::>>>>  0 \n",
            "  gwlauren smartdissent all the repub run states are failing badly re the corona virus send in the national health police \n",
            "\n",
            "<<<<<:::::::Bayes polarity :::::::::>>>>  0 \n",
            " don t depend on government take care of yourself with right information about corona virus union government \n",
            "\n",
            " <<<<<<<:::::::Logistic polarity::::::::::::>>>>  1 \n",
            " don t depend on government take care of yourself with right information about corona virus union government\n",
            "\n",
            "<<<<<:::::::Bayes polarity :::::::::>>>>  0 \n",
            "  russia corona virus vaccine is ready and safe ministry of defen says will produce million doses before en  \n",
            "\n",
            " <<<<<<<:::::::Logistic polarity::::::::::::>>>>  0 \n",
            "  russia corona virus vaccine is ready and safe ministry of defen says will produce million doses before en \n",
            "\n",
            "<<<<<:::::::Bayes polarity :::::::::>>>>  1 \n",
            "  bjp india narendramodi sir i think you forget india stands rd in corona virus  \n",
            "\n",
            " <<<<<<<:::::::Logistic polarity::::::::::::>>>>  1 \n",
            "  bjp india narendramodi sir i think you forget india stands rd in corona virus \n",
            "\n",
            "<<<<<:::::::Bayes polarity :::::::::>>>>  0 \n",
            " feb who declared coronavirus a pandemic feb raga warned corona virus is an serious threat today we have  \n",
            "\n",
            " <<<<<<<:::::::Logistic polarity::::::::::::>>>>  1 \n",
            " feb who declared coronavirus a pandemic feb raga warned corona virus is an serious threat today we have \n",
            "\n",
            "<<<<<:::::::Bayes polarity :::::::::>>>>  0 \n",
            " exo chen got married on january ju in time before the corona virus hell  \n",
            "\n",
            " <<<<<<<:::::::Logistic polarity::::::::::::>>>>  1 \n",
            " exo chen got married on january ju in time before the corona virus hell \n",
            "\n",
            "<<<<<:::::::Bayes polarity :::::::::>>>>  0 \n",
            "  drhananashrawi reliefweb the un lied the cure for corona virus was available at that time an was in u to th  \n",
            "\n",
            " <<<<<<<:::::::Logistic polarity::::::::::::>>>>  1 \n",
            "  drhananashrawi reliefweb the un lied the cure for corona virus was available at that time an was in u to th \n",
            "\n",
            "<<<<<:::::::Bayes polarity :::::::::>>>>  0 \n",
            " maharashtra government was more concerned about people s gatari then corona virus becau they kept chicken shops o  \n",
            "\n",
            " <<<<<<<:::::::Logistic polarity::::::::::::>>>>  0 \n",
            " maharashtra government was more concerned about people s gatari then corona virus becau they kept chicken shops o \n",
            "\n",
            "<<<<<:::::::Bayes polarity :::::::::>>>>  0 \n",
            "  go outside and make some friends it is not that ea with the corona virus out  \n",
            "\n",
            " <<<<<<<:::::::Logistic polarity::::::::::::>>>>  0 \n",
            "  go outside and make some friends it is not that ea with the corona virus out \n",
            "\n",
            "<<<<<:::::::Bayes polarity :::::::::>>>>  0 \n",
            " should any of us be surprised if rodney s doctor dr vinnie boombatz is trump s new corona virus expert  \n",
            "\n",
            " <<<<<<<:::::::Logistic polarity::::::::::::>>>>  0 \n",
            " should any of us be surprised if rodney s doctor dr vinnie boombatz is trump s new corona virus expert \n",
            "\n",
            "<<<<<:::::::Bayes polarity :::::::::>>>>  1 \n",
            "  emodiabenjamin this is indeed an amazing and shocking miracle of our time the lord has remembered his people in t  \n",
            "\n",
            " <<<<<<<:::::::Logistic polarity::::::::::::>>>>  1 \n",
            "  emodiabenjamin this is indeed an amazing and shocking miracle of our time the lord has remembered his people in t \n",
            "\n",
            "<<<<<:::::::Bayes polarity :::::::::>>>>  0 \n",
            " sick of the niggas corona virus  \n",
            "\n",
            " <<<<<<<:::::::Logistic polarity::::::::::::>>>>  0 \n",
            " sick of the niggas corona virus \n",
            "\n",
            "<<<<<:::::::Bayes polarity :::::::::>>>>  0 \n",
            " why is the public using temperature checks to identify covid carriers when of cases are mild or asymptomatic  \n",
            "\n",
            " <<<<<<<:::::::Logistic polarity::::::::::::>>>>  0 \n",
            " why is the public using temperature checks to identify covid carriers when of cases are mild or asymptomatic \n",
            "\n",
            "<<<<<:::::::Bayes polarity :::::::::>>>>  0 \n",
            "  gstanchev memory respon would get activated after a reinfection an infected person can shed the virus even if  \n",
            "\n",
            " <<<<<<<:::::::Logistic polarity::::::::::::>>>>  0 \n",
            "  gstanchev memory respon would get activated after a reinfection an infected person can shed the virus even if \n",
            "\n",
            "<<<<<:::::::Bayes polarity :::::::::>>>>  0 \n",
            "  mrmeseeks sarahjanehug no that would be vietnam the large country without a single corona virus death  \n",
            "\n",
            " <<<<<<<:::::::Logistic polarity::::::::::::>>>>  0 \n",
            "  mrmeseeks sarahjanehug no that would be vietnam the large country without a single corona virus death \n",
            "\n",
            "<<<<<:::::::Bayes polarity :::::::::>>>>  0 \n",
            "  christo janetrizzo nycmayor have you figured as dumb corona virus don t care about constitutional rights \n",
            "\n",
            " <<<<<<<:::::::Logistic polarity::::::::::::>>>>  0 \n",
            "  christo janetrizzo nycmayor have you figured as dumb corona virus don t care about constitutional rights\n",
            "\n",
            "<<<<<:::::::Bayes polarity :::::::::>>>>  0 \n",
            " as if corona virus is not enough trozans are inviting me  \n",
            "\n",
            " <<<<<<<:::::::Logistic polarity::::::::::::>>>>  0 \n",
            " as if corona virus is not enough trozans are inviting me \n",
            "\n",
            "<<<<<:::::::Bayes polarity :::::::::>>>>  0 \n",
            "  happynessiam the topic was he wanted the taxing entity to give back his school taxes since kids weren t going to s  \n",
            "\n",
            " <<<<<<<:::::::Logistic polarity::::::::::::>>>>  0 \n",
            "  happynessiam the topic was he wanted the taxing entity to give back his school taxes since kids weren t going to s \n",
            "\n",
            "<<<<<:::::::Bayes polarity :::::::::>>>>  0 \n",
            " corona virus will end when there is a taekook subunit \n",
            "\n",
            " <<<<<<<:::::::Logistic polarity::::::::::::>>>>  0 \n",
            " corona virus will end when there is a taekook subunit\n",
            "\n",
            "<<<<<:::::::Bayes polarity :::::::::>>>>  1 \n",
            "  speakerpelo as an election judge we will u the methods corona virus stimulate check matches bank and i  \n",
            "\n",
            " <<<<<<<:::::::Logistic polarity::::::::::::>>>>  1 \n",
            "  speakerpelo as an election judge we will u the methods corona virus stimulate check matches bank and i \n",
            "\n",
            "<<<<<:::::::Bayes polarity :::::::::>>>>  0 \n",
            "  bluismarino she s going to end up mysteriously dieing in some way suicide corona virus etc \n",
            "\n",
            " <<<<<<<:::::::Logistic polarity::::::::::::>>>>  0 \n",
            "  bluismarino she s going to end up mysteriously dieing in some way suicide corona virus etc\n",
            "\n",
            "<<<<<:::::::Bayes polarity :::::::::>>>>  0 \n",
            "  acosta i think she meant consitently inconsistent like trump testing positive to the negative for corona virus  \n",
            "\n",
            " <<<<<<<:::::::Logistic polarity::::::::::::>>>>  0 \n",
            "  acosta i think she meant consitently inconsistent like trump testing positive to the negative for corona virus \n",
            "\n",
            "<<<<<:::::::Bayes polarity :::::::::>>>>  0 \n",
            " corona virus update india total cases till date active cases recovered new cases today  \n",
            "\n",
            " <<<<<<<:::::::Logistic polarity::::::::::::>>>>  1 \n",
            " corona virus update india total cases till date active cases recovered new cases today \n",
            "\n",
            "<<<<<:::::::Bayes polarity :::::::::>>>>  0 \n",
            " thanking god i didn t have to fight the crack head corona virus real out here \n",
            "\n",
            " <<<<<<<:::::::Logistic polarity::::::::::::>>>>  0 \n",
            " thanking god i didn t have to fight the crack head corona virus real out here\n",
            "\n",
            "<<<<<:::::::Bayes polarity :::::::::>>>>  0 \n",
            "  cnnpolitics another tax payer funded campaign rally under the gui of a corona virus briefing  \n",
            "\n",
            " <<<<<<<:::::::Logistic polarity::::::::::::>>>>  0 \n",
            "  cnnpolitics another tax payer funded campaign rally under the gui of a corona virus briefing \n",
            "\n",
            "<<<<<:::::::Bayes polarity :::::::::>>>>  0 \n",
            "  realdonaldtrump it is a corona virus called covid you poop stirring raci ju becau you name call it like a  \n",
            "\n",
            " <<<<<<<:::::::Logistic polarity::::::::::::>>>>  0 \n",
            "  realdonaldtrump it is a corona virus called covid you poop stirring raci ju becau you name call it like a \n",
            "\n",
            "<<<<<:::::::Bayes polarity :::::::::>>>>  1 \n",
            "  teamtrump kayleighmcenany people plea wake up hmmm why is it the corona virus is only increasing in states t  \n",
            "\n",
            " <<<<<<<:::::::Logistic polarity::::::::::::>>>>  0 \n",
            "  teamtrump kayleighmcenany people plea wake up hmmm why is it the corona virus is only increasing in states t \n",
            "\n",
            "<<<<<:::::::Bayes polarity :::::::::>>>>  0 \n",
            "  trump can trigger you and you immediately go into a huge prote infecting hundreds of people becau you are n  \n",
            "\n",
            " <<<<<<<:::::::Logistic polarity::::::::::::>>>>  0 \n",
            "  trump can trigger you and you immediately go into a huge prote infecting hundreds of people becau you are n \n",
            "\n",
            "<<<<<:::::::Bayes polarity :::::::::>>>>  0 \n",
            " corona virus update india total cases till date active cases recovered new cases today  \n",
            "\n",
            " <<<<<<<:::::::Logistic polarity::::::::::::>>>>  1 \n",
            " corona virus update india total cases till date active cases recovered new cases today \n",
            "\n",
            "<<<<<:::::::Bayes polarity :::::::::>>>>  1 \n",
            "  rashidatlaib re impeach corrupt trump and republicons fix climate change not elections con republicons knew a  \n",
            "\n",
            " <<<<<<<:::::::Logistic polarity::::::::::::>>>>  1 \n",
            "  rashidatlaib re impeach corrupt trump and republicons fix climate change not elections con republicons knew a \n",
            "\n",
            "<<<<<:::::::Bayes polarity :::::::::>>>>  1 \n",
            "  aamaadmiparty arvindkejriwal sir plea distribute good quality masks effective again corona virus and good qua  \n",
            "\n",
            " <<<<<<<:::::::Logistic polarity::::::::::::>>>>  1 \n",
            "  aamaadmiparty arvindkejriwal sir plea distribute good quality masks effective again corona virus and good qua \n",
            "\n",
            "<<<<<:::::::Bayes polarity :::::::::>>>>  0 \n",
            "  jka catwomanlives corona type virus has prior versions to this novel cv iteration been around forever  \n",
            "\n",
            " <<<<<<<:::::::Logistic polarity::::::::::::>>>>  0 \n",
            "  jka catwomanlives corona type virus has prior versions to this novel cv iteration been around forever \n",
            "\n",
            "<<<<<:::::::Bayes polarity :::::::::>>>>  1 \n",
            "  vsreddy_mp get well soon sir a wi from all amaravati farmers a speedy recovery be brave you can kill corona  \n",
            "\n",
            " <<<<<<<:::::::Logistic polarity::::::::::::>>>>  1 \n",
            "  vsreddy_mp get well soon sir a wi from all amaravati farmers a speedy recovery be brave you can kill corona \n",
            "\n",
            "<<<<<:::::::Bayes polarity :::::::::>>>>  0 \n",
            "  sometimes wonder if the democrats influenced the corona virus to fight trump s popularity and dumb down our chil  \n",
            "\n",
            " <<<<<<<:::::::Logistic polarity::::::::::::>>>>  0 \n",
            "  sometimes wonder if the democrats influenced the corona virus to fight trump s popularity and dumb down our chil \n",
            "\n",
            "<<<<<:::::::Bayes polarity :::::::::>>>>  0 \n",
            " drive in covid testing offered monday through friday in robertsdale new drive in corona virus testing site offe  \n",
            "\n",
            " <<<<<<<:::::::Logistic polarity::::::::::::>>>>  0 \n",
            " drive in covid testing offered monday through friday in robertsdale new drive in corona virus testing site offe \n",
            "\n",
            "<<<<<:::::::Bayes polarity :::::::::>>>>  0 \n",
            " dont go to any events with more than people until corona virus tests come back in days or le anything more  \n",
            "\n",
            " <<<<<<<:::::::Logistic polarity::::::::::::>>>>  0 \n",
            " dont go to any events with more than people until corona virus tests come back in days or le anything more \n",
            "\n",
            "<<<<<:::::::Bayes polarity :::::::::>>>>  1 \n",
            "  that person can cope up with this situation becau this corona virus is physical as well as mental disea thanks arvindkejriwal \n",
            "\n",
            " <<<<<<<:::::::Logistic polarity::::::::::::>>>>  1 \n",
            "  that person can cope up with this situation becau this corona virus is physical as well as mental disea thanks arvindkejriwal\n",
            "\n",
            "<<<<<:::::::Bayes polarity :::::::::>>>>  0 \n",
            "  pdpvanguard atiku hunger would have not been killing nigerians and there will be no corona virus \n",
            "\n",
            " <<<<<<<:::::::Logistic polarity::::::::::::>>>>  0 \n",
            "  pdpvanguard atiku hunger would have not been killing nigerians and there will be no corona virus\n",
            "\n",
            "<<<<<:::::::Bayes polarity :::::::::>>>>  0 \n",
            " many if not mo americans by contra received little or no corona virus stimulus bailout funds  \n",
            "\n",
            " <<<<<<<:::::::Logistic polarity::::::::::::>>>>  1 \n",
            " many if not mo americans by contra received little or no corona virus stimulus bailout funds \n",
            "\n",
            "<<<<<:::::::Bayes polarity :::::::::>>>>  0 \n",
            "  peterbakernyt now we know what the corona virus briefing is going to be about \n",
            "\n",
            " <<<<<<<:::::::Logistic polarity::::::::::::>>>>  0 \n",
            "  peterbakernyt now we know what the corona virus briefing is going to be about\n",
            "\n",
            "<<<<<:::::::Bayes polarity :::::::::>>>>  1 \n",
            " how did i catch corona virus what symptoms did i get when did i get tested how has my recovery journey been like  \n",
            "\n",
            " <<<<<<<:::::::Logistic polarity::::::::::::>>>>  1 \n",
            " how did i catch corona virus what symptoms did i get when did i get tested how has my recovery journey been like \n",
            "\n",
            "<<<<<:::::::Bayes polarity :::::::::>>>>  0 \n",
            "  omojuwa deritero you have acctually spoken well it will take some time before corona virus epidemic will vanis  \n",
            "\n",
            " <<<<<<<:::::::Logistic polarity::::::::::::>>>>  1 \n",
            "  omojuwa deritero you have acctually spoken well it will take some time before corona virus epidemic will vanis \n",
            "\n",
            "<<<<<:::::::Bayes polarity :::::::::>>>>  0 \n",
            "  potus did u know cbs christian broadcasting service did ur vp amp chief corona virus expert know that i thought  \n",
            "\n",
            " <<<<<<<:::::::Logistic polarity::::::::::::>>>>  0 \n",
            "  potus did u know cbs christian broadcasting service did ur vp amp chief corona virus expert know that i thought \n",
            "\n",
            "<<<<<:::::::Bayes polarity :::::::::>>>>  0 \n",
            " interesting choral song on corona virus  \n",
            "\n",
            " <<<<<<<:::::::Logistic polarity::::::::::::>>>>  0 \n",
            " interesting choral song on corona virus \n",
            "\n",
            "<<<<<:::::::Bayes polarity :::::::::>>>>  1 \n",
            " word on the street tiger point hoa moving yard of the month selection back a few weeks in augu due to corona virus  \n",
            "\n",
            " <<<<<<<:::::::Logistic polarity::::::::::::>>>>  1 \n",
            " word on the street tiger point hoa moving yard of the month selection back a few weeks in augu due to corona virus \n",
            "\n",
            "<<<<<:::::::Bayes polarity :::::::::>>>>  0 \n",
            "  the ebola virus that s gotta suck huh chandler bing chandler bing if friends aires in t  \n",
            "\n",
            " <<<<<<<:::::::Logistic polarity::::::::::::>>>>  0 \n",
            "  the ebola virus that s gotta suck huh chandler bing chandler bing if friends aires in t \n",
            "\n",
            "<<<<<:::::::Bayes polarity :::::::::>>>>  0 \n",
            "  davidwohl you mean the deaths from corona virus blood on his hands  \n",
            "\n",
            " <<<<<<<:::::::Logistic polarity::::::::::::>>>>  0 \n",
            "  davidwohl you mean the deaths from corona virus blood on his hands \n",
            "\n",
            "<<<<<:::::::Bayes polarity :::::::::>>>>  0 \n",
            "  iowahoopsdave drguru sportscenter malika_andrews lmao and that proves nothing i am still waiting for some l  \n",
            "\n",
            " <<<<<<<:::::::Logistic polarity::::::::::::>>>>  0 \n",
            "  iowahoopsdave drguru sportscenter malika_andrews lmao and that proves nothing i am still waiting for some l \n",
            "\n",
            "<<<<<:::::::Bayes polarity :::::::::>>>>  1 \n",
            " caa protestor hero sarjil imam te positive covid in assam jail faci govt spreading corona virus to the innocents freesarjilimam \n",
            "\n",
            " <<<<<<<:::::::Logistic polarity::::::::::::>>>>  0 \n",
            " caa protestor hero sarjil imam te positive covid in assam jail faci govt spreading corona virus to the innocents freesarjilimam\n",
            "\n",
            "<<<<<:::::::Bayes polarity :::::::::>>>>  0 \n",
            "  freebyrd covid is ju a computer virus not a corona virus someone hit alt ctrl del plea  \n",
            "\n",
            " <<<<<<<:::::::Logistic polarity::::::::::::>>>>  0 \n",
            "  freebyrd covid is ju a computer virus not a corona virus someone hit alt ctrl del plea \n",
            "\n",
            "<<<<<:::::::Bayes polarity :::::::::>>>>  0 \n",
            "  terrytown literally giving out products with corona virus  \n",
            "\n",
            " <<<<<<<:::::::Logistic polarity::::::::::::>>>>  0 \n",
            "  terrytown literally giving out products with corona virus \n",
            "\n",
            "<<<<<:::::::Bayes polarity :::::::::>>>>  0 \n",
            " my boyfriend is on a work call and every often i hear him say something super out of context from the other room  \n",
            "\n",
            " <<<<<<<:::::::Logistic polarity::::::::::::>>>>  0 \n",
            " my boyfriend is on a work call and every often i hear him say something super out of context from the other room \n",
            "\n",
            "<<<<<:::::::Bayes polarity :::::::::>>>>  0 \n",
            " they should make n girls underwear catch more shit down there then the corona virus coronavirus corona virus  \n",
            "\n",
            " <<<<<<<:::::::Logistic polarity::::::::::::>>>>  0 \n",
            " they should make n girls underwear catch more shit down there then the corona virus coronavirus corona virus \n",
            "\n",
            "<<<<<:::::::Bayes polarity :::::::::>>>>  0 \n",
            "  j_ringle liz_cheney novel corona virus since it is unknown scientists are learning new things all the time  \n",
            "\n",
            " <<<<<<<:::::::Logistic polarity::::::::::::>>>>  1 \n",
            "  j_ringle liz_cheney novel corona virus since it is unknown scientists are learning new things all the time \n",
            "\n",
            "<<<<<:::::::Bayes polarity :::::::::>>>>  0 \n",
            " hey donald j trump you can have your corona virus briefing every day but without dr fauci at the podium your brie  \n",
            "\n",
            " <<<<<<<:::::::Logistic polarity::::::::::::>>>>  1 \n",
            " hey donald j trump you can have your corona virus briefing every day but without dr fauci at the podium your brie \n",
            "\n",
            "<<<<<:::::::Bayes polarity :::::::::>>>>  0 \n",
            " anyone corona virus is a hoax me  \n",
            "\n",
            " <<<<<<<:::::::Logistic polarity::::::::::::>>>>  0 \n",
            " anyone corona virus is a hoax me \n",
            "\n",
            "<<<<<:::::::Bayes polarity :::::::::>>>>  0 \n",
            "  rahulgandhi respected rahul sir why all tweet of your regarding the disaster in management of corona virus is fr  \n",
            "\n",
            " <<<<<<<:::::::Logistic polarity::::::::::::>>>>  0 \n",
            "  rahulgandhi respected rahul sir why all tweet of your regarding the disaster in management of corona virus is fr \n",
            "\n",
            "<<<<<:::::::Bayes polarity :::::::::>>>>  1 \n",
            " hallo remember the after a lot of drama and time finding their perfect coating corona virus delays an attem  \n",
            "\n",
            " <<<<<<<:::::::Logistic polarity::::::::::::>>>>  1 \n",
            " hallo remember the after a lot of drama and time finding their perfect coating corona virus delays an attem \n",
            "\n",
            "<<<<<:::::::Bayes polarity :::::::::>>>>  0 \n",
            "  hnbldcnbl corona virus felt that \n",
            "\n",
            " <<<<<<<:::::::Logistic polarity::::::::::::>>>>  0 \n",
            "  hnbldcnbl corona virus felt that\n",
            "\n",
            "<<<<<:::::::Bayes polarity :::::::::>>>>  1 \n",
            "  vpsbadnore dgpchdpolice nilambariips dear sir yesterday electricity deptt people have visited in our streets o  \n",
            "\n",
            " <<<<<<<:::::::Logistic polarity::::::::::::>>>>  0 \n",
            "  vpsbadnore dgpchdpolice nilambariips dear sir yesterday electricity deptt people have visited in our streets o \n",
            "\n",
            "<<<<<:::::::Bayes polarity :::::::::>>>>  0 \n",
            " on corona virus magufuli is right and is hone to his people hapa kenya we re bombarded with lies and lies and lies only  \n",
            "\n",
            " <<<<<<<:::::::Logistic polarity::::::::::::>>>>  0 \n",
            " on corona virus magufuli is right and is hone to his people hapa kenya we re bombarded with lies and lies and lies only \n",
            "\n",
            "<<<<<:::::::Bayes polarity :::::::::>>>>  0 \n",
            "  kylaskrett repswalwell oscura realdonaldtrump maybe if everything he did wa t self serving he d get a break  \n",
            "\n",
            " <<<<<<<:::::::Logistic polarity::::::::::::>>>>  0 \n",
            "  kylaskrett repswalwell oscura realdonaldtrump maybe if everything he did wa t self serving he d get a break \n",
            "\n",
            "<<<<<:::::::Bayes polarity :::::::::>>>>  0 \n",
            "  covid don t wnt to lie corona virus is taking the right direction now and i am sure it wl finni gud it was  \n",
            "\n",
            " <<<<<<<:::::::Logistic polarity::::::::::::>>>>  0 \n",
            "  covid don t wnt to lie corona virus is taking the right direction now and i am sure it wl finni gud it was \n",
            "\n",
            "<<<<<:::::::Bayes polarity :::::::::>>>>  1 \n",
            " where el has this happened or seen ever since the earth was laid to it is foundation amid the historic judge  \n",
            "\n",
            " <<<<<<<:::::::Logistic polarity::::::::::::>>>>  1 \n",
            " where el has this happened or seen ever since the earth was laid to it is foundation amid the historic judge \n",
            "\n",
            "<<<<<:::::::Bayes polarity :::::::::>>>>  0 \n",
            "  cstradamus bfeone charliekirk truth_leah this te can al give a positive outcome any other type of corona  \n",
            "\n",
            " <<<<<<<:::::::Logistic polarity::::::::::::>>>>  0 \n",
            "  cstradamus bfeone charliekirk truth_leah this te can al give a positive outcome any other type of corona \n",
            "\n",
            "<<<<<:::::::Bayes polarity :::::::::>>>>  0 \n",
            "  atxleb coachkwlw realdonaldtrump his handling of the corona virus if you look at every other country in the  \n",
            "\n",
            " <<<<<<<:::::::Logistic polarity::::::::::::>>>>  0 \n",
            "  atxleb coachkwlw realdonaldtrump his handling of the corona virus if you look at every other country in the \n",
            "\n",
            "<<<<<:::::::Bayes polarity :::::::::>>>>  0 \n",
            "  pre conference on the corona virus the journalists are lying bitches  \n",
            "\n",
            " <<<<<<<:::::::Logistic polarity::::::::::::>>>>  0 \n",
            "  pre conference on the corona virus the journalists are lying bitches \n",
            "\n",
            "<<<<<:::::::Bayes polarity :::::::::>>>>  0 \n",
            "  troyli josephm globeandmail more testing means more cases will be found but beds occupied of  \n",
            "\n",
            " <<<<<<<:::::::Logistic polarity::::::::::::>>>>  0 \n",
            "  troyli josephm globeandmail more testing means more cases will be found but beds occupied of \n",
            "\n",
            "<<<<<:::::::Bayes polarity :::::::::>>>>  0 \n",
            "  bbhuttozardari shahnafi arifalvi more painful is the fact that she died of corona virus what a tragedy  \n",
            "\n",
            " <<<<<<<:::::::Logistic polarity::::::::::::>>>>  0 \n",
            "  bbhuttozardari shahnafi arifalvi more painful is the fact that she died of corona virus what a tragedy \n",
            "\n",
            "<<<<<:::::::Bayes polarity :::::::::>>>>  0 \n",
            "  historicendtimerevival when the whole world is focusing on the corona virus which is a fulfilment of the prophe  \n",
            "\n",
            " <<<<<<<:::::::Logistic polarity::::::::::::>>>>  1 \n",
            "  historicendtimerevival when the whole world is focusing on the corona virus which is a fulfilment of the prophe \n",
            "\n",
            "<<<<<:::::::Bayes polarity :::::::::>>>>  1 \n",
            "  shaunbaileyuk michaelberliner tfl had financial issues becau of corona virus what would you have done differently  \n",
            "\n",
            " <<<<<<<:::::::Logistic polarity::::::::::::>>>>  0 \n",
            "  shaunbaileyuk michaelberliner tfl had financial issues becau of corona virus what would you have done differently \n",
            "\n",
            "<<<<<:::::::Bayes polarity :::::::::>>>>  0 \n",
            "  briansimpson fbi yeah wer all dying from the le than death rate of corona virus \n",
            "\n",
            " <<<<<<<:::::::Logistic polarity::::::::::::>>>>  0 \n",
            "  briansimpson fbi yeah wer all dying from the le than death rate of corona virus\n",
            "\n",
            "<<<<<:::::::Bayes polarity :::::::::>>>>  0 \n",
            "  mawarirej are u that thick headed and daft not to understand that this is as a result of the spread of the corona  \n",
            "\n",
            " <<<<<<<:::::::Logistic polarity::::::::::::>>>>  0 \n",
            "  mawarirej are u that thick headed and daft not to understand that this is as a result of the spread of the corona \n",
            "\n",
            "<<<<<:::::::Bayes polarity :::::::::>>>>  0 \n",
            "  ifschoolsreopennow corona virus cases will spike children will be sick infect their families teachers do not ris  \n",
            "\n",
            " <<<<<<<:::::::Logistic polarity::::::::::::>>>>  0 \n",
            "  ifschoolsreopennow corona virus cases will spike children will be sick infect their families teachers do not ris \n",
            "\n",
            "<<<<<:::::::Bayes polarity :::::::::>>>>  1 \n",
            "  thehill nicolette trump governor greg abbott and republicans want to kill black brown and white americans by ig  \n",
            "\n",
            " <<<<<<<:::::::Logistic polarity::::::::::::>>>>  0 \n",
            "  thehill nicolette trump governor greg abbott and republicans want to kill black brown and white americans by ig \n",
            "\n",
            "<<<<<:::::::Bayes polarity :::::::::>>>>  0 \n",
            " fuck you corona virus  \n",
            "\n",
            " <<<<<<<:::::::Logistic polarity::::::::::::>>>>  0 \n",
            " fuck you corona virus \n",
            "\n",
            "<<<<<:::::::Bayes polarity :::::::::>>>>  1 \n",
            "  slipperyhero ianbremmer gue it will take the corona death to enter their lives to make them understand it is a  \n",
            "\n",
            " <<<<<<<:::::::Logistic polarity::::::::::::>>>>  1 \n",
            "  slipperyhero ianbremmer gue it will take the corona death to enter their lives to make them understand it is a \n",
            "\n",
            "<<<<<:::::::Bayes polarity :::::::::>>>>  0 \n",
            "  cnnpolitics then it i t a corona virus briefing  \n",
            "\n",
            " <<<<<<<:::::::Logistic polarity::::::::::::>>>>  0 \n",
            "  cnnpolitics then it i t a corona virus briefing \n",
            "\n",
            "<<<<<:::::::Bayes polarity :::::::::>>>>  0 \n",
            "  khguidry sidneypowell therealmaradkel southwestair early on i heard a report on fnc where someone said the  \n",
            "\n",
            " <<<<<<<:::::::Logistic polarity::::::::::::>>>>  0 \n",
            "  khguidry sidneypowell therealmaradkel southwestair early on i heard a report on fnc where someone said the \n",
            "\n",
            "<<<<<:::::::Bayes polarity :::::::::>>>>  0 \n",
            "  mitchellreports kwelkernbc all news outlets need to break away the second trump starts deviating from corona viru  \n",
            "\n",
            " <<<<<<<:::::::Logistic polarity::::::::::::>>>>  0 \n",
            "  mitchellreports kwelkernbc all news outlets need to break away the second trump starts deviating from corona viru \n"
          ],
          "name": "stdout"
        }
      ]
    },
    {
      "cell_type": "markdown",
      "metadata": {
        "id": "RfAsnK37GHQO",
        "colab_type": "text"
      },
      "source": [
        "# Visualization du nombres de positive et négative tweets prédecter par le logistic regressio et Naîve Bayes"
      ]
    },
    {
      "cell_type": "markdown",
      "metadata": {
        "id": "bKPEZGMZGHQR",
        "colab_type": "text"
      },
      "source": [
        "## Visualisation en utilison le Histograme"
      ]
    },
    {
      "cell_type": "code",
      "metadata": {
        "id": "DOnDnIajGHQS",
        "colab_type": "code",
        "colab": {
          "base_uri": "https://localhost:8080/",
          "height": 282
        },
        "outputId": "b1b37ea8-647a-4018-f4dd-e03bf71bce7d"
      },
      "source": [
        "objects = ['Positive_B','Positive_L','Negative_B','Negative_L']\n",
        "y_pos = np.arange(len(objects))\n",
        "plt.ylabel('Number')\n",
        "plt.title('Number of Positive and Negative Tweets using base algorithm and logistic algorithm')\n",
        "\n",
        "plt.bar(y_pos,[total_posB,total_posL,total_negB,total_negL],alpha=0.5,color=['blue','green','red','black'])\n",
        "plt.xticks(y_pos,objects)\n",
        "\n",
        "plt.show()"
      ],
      "execution_count": 22,
      "outputs": [
        {
          "output_type": "display_data",
          "data": {
            "image/png": "[encoded data removed]",
            "text/plain": [
              "<Figure size 432x288 with 1 Axes>"
            ]
          },
          "metadata": {
            "tags": [],
            "needs_background": "light"
          }
        }
      ]
    },
    {
      "cell_type": "markdown",
      "metadata": {
        "id": "ZhLTFFEaGHQX",
        "colab_type": "text"
      },
      "source": [
        "## Visualisation en utilison le pie chart"
      ]
    },
    {
      "cell_type": "code",
      "metadata": {
        "id": "iRSFpRpXGHQY",
        "colab_type": "code",
        "colab": {
          "base_uri": "https://localhost:8080/",
          "height": 264
        },
        "outputId": "68d5f79f-c409-4bb5-c875-07482a283c9c"
      },
      "source": [
        "labels = 'negative_B', 'positive_B', 'negative_L', 'positive_L'\n",
        "sizes = [total_negB, total_posB, total_negL, total_posL]\n",
        "explode = (0.1, 0.1, 0.2, 0)\n",
        "\n",
        "fig1, ax1 = plt.subplots()\n",
        "ax1.pie(sizes, explode=explode, labels=labels, autopct='%1.1f%%',\n",
        "        shadow=True, startangle=90)\n",
        "ax1.axis('equal')\n",
        "plt.title('Number of Positive and Negative Tweets using base algorithm and logistic algorithm')\n",
        "plt.show()"
      ],
      "execution_count": 23,
      "outputs": [
        {
          "output_type": "display_data",
          "data": {
            "image/png": "[encoded data removed]",
            "text/plain": [
              "<Figure size 432x288 with 1 Axes>"
            ]
          },
          "metadata": {
            "tags": []
          }
        }
      ]
    }
  ]
}