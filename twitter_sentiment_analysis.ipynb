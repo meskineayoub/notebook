{
 "cells": [
  {
   "cell_type": "code",
   "execution_count": 60,
   "metadata": {},
   "outputs": [
    {
     "data": {
      "image/jpeg": "[encoded data removed]",
      "text/plain": [
       "<IPython.core.display.Image object>"
      ]
     },
     "execution_count": 60,
     "metadata": {
      "image/jpeg": {
       "height": 300,
       "width": 600
      }
     },
     "output_type": "execute_result"
    }
   ],
   "source": [
    "from IPython.display import Image\n",
    "Image(\"fsrr.jpg\", width = 600, height = 300)"
   ]
  },
  {
   "cell_type": "markdown",
   "metadata": {},
   "source": [
    "# Projet Twitter sentiments analysis \n",
    "     by Abraca-data team\n",
    "     \n",
    "                           Réalisé par : Ayoub Meskine & Brahim Zaoug\n",
    "                           Encadré par : Mr Abdelhak Mahmoudi"
   ]
  },
  {
   "cell_type": "markdown",
   "metadata": {},
   "source": [
    "# Résumé\n",
    "L'analyse des sentiments est une technologie d'analyse automatique des discours, écrits ou parlés dans le but consiste à extraire des informations subjectives comme les jugements, des évaluations ou des émotions pour détecter la polarité d'une opinion.\n",
    "L’importance de l'analyse des sentiments, est présente dans plusieurs domaines à savoir politique marketing, gestion de la réputation.\n",
    "Dans ce Project. Notre objectif consiste à réaliser un models classifieur capable à faire des prédiction des sentiments en le l'appliquant sur le cas de Twitter en adoptant une approche pour l'apprentissage automatique.\n",
    "Pour ce faire nous avons implémenté la méthode probabiliste Naïve Bayes et Logistic Regression sur Tweeter en utilisant la bibliothèque tweepy de Python. Nous avons considéré le modèle de représentation des données sémantique avec la pondération TF-IDF(Terme Frequency - Inverse Document Frequency)."
   ]
  },
  {
   "cell_type": "markdown",
   "metadata": {},
   "source": [
    "# Import Libraries"
   ]
  },
  {
   "cell_type": "code",
   "execution_count": 31,
   "metadata": {},
   "outputs": [
    {
     "name": "stderr",
     "output_type": "stream",
     "text": [
      "[nltk_data] Downloading package stopwords to /home/ayoub/nltk_data...\n",
      "[nltk_data]   Package stopwords is already up-to-date!\n"
     ]
    },
    {
     "data": {
      "text/plain": [
       "True"
      ]
     },
     "execution_count": 31,
     "metadata": {},
     "output_type": "execute_result"
    }
   ],
   "source": [
    "from sklearn import metrics\n",
    "import re\n",
    "import pickle\n",
    "import nltk\n",
    "from nltk.corpus import stopwords\n",
    "from sklearn.datasets import load_files\n",
    "import tweepy\n",
    "from tweepy import OAuthHandler\n",
    "import matplotlib.pyplot as plt\n",
    "import numpy as np\n",
    "nltk.download('stopwords')\n"
   ]
  },
  {
   "cell_type": "markdown",
   "metadata": {},
   "source": [
    "# Import dataset"
   ]
  },
  {
   "cell_type": "code",
   "execution_count": 3,
   "metadata": {},
   "outputs": [],
   "source": [
    "reviews = load_files('tokens/')\n",
    "\n",
    "x,y = reviews.data,reviews.target"
   ]
  },
  {
   "cell_type": "markdown",
   "metadata": {},
   "source": [
    "# Enregistrer les resultat dans un ficher"
   ]
  },
  {
   "cell_type": "code",
   "execution_count": 4,
   "metadata": {},
   "outputs": [],
   "source": [
    " with open('x.pickle','wb') as f:\n",
    "    pickle.dump(x,f)\n",
    "\n",
    "with open('y.pickle','wb') as f:\n",
    "    pickle.dump(y,f)\n",
    "    \n",
    "    "
   ]
  },
  {
   "cell_type": "markdown",
   "metadata": {},
   "source": [
    "# Unpicking the data "
   ]
  },
  {
   "cell_type": "code",
   "execution_count": 5,
   "metadata": {},
   "outputs": [],
   "source": [
    "with open('x.pickle','rb') as f:\n",
    "    x=pickle.load(f)\n",
    "    \n",
    "with open('y.pickle','rb') as f:\n",
    "    y=pickle.load(f)\n"
   ]
  },
  {
   "cell_type": "markdown",
   "metadata": {},
   "source": [
    "# Creating corpus"
   ]
  },
  {
   "cell_type": "code",
   "execution_count": 6,
   "metadata": {},
   "outputs": [],
   "source": [
    "corpus = []\n",
    "for i in range(0,len(x)):\n",
    "    review = re.sub(r'\\W',' ',str(x[i]))\n",
    "    review = review.lower()\n",
    "    review = re.sub(r'\\s+[a-z]\\s+',' ',review)\n",
    "    review = re.sub(r'^[a-z]\\s+',' ',review)\n",
    "    review=re.sub(r\"\\d\",\" \",review)\n",
    "    corpus.append(review)\n",
    "    "
   ]
  },
  {
   "cell_type": "markdown",
   "metadata": {},
   "source": [
    "# Create the Tf_idf model"
   ]
  },
  {
   "cell_type": "code",
   "execution_count": 7,
   "metadata": {},
   "outputs": [],
   "source": [
    "from sklearn.feature_extraction.text import TfidfVectorizer\n",
    "vectorizer = TfidfVectorizer(max_features=26400,min_df=3,max_df=0.6,stop_words=stopwords.words('english'))\n",
    "x=vectorizer.fit_transform(corpus).toarray()\n"
   ]
  },
  {
   "cell_type": "markdown",
   "metadata": {},
   "source": [
    "# Split the data to train and test sets"
   ]
  },
  {
   "cell_type": "code",
   "execution_count": 8,
   "metadata": {},
   "outputs": [],
   "source": [
    "from sklearn.model_selection import train_test_split\n",
    "text_train,text_test,sent_train,sent_test=train_test_split(x,y,test_size=0.2,random_state=0)\n"
   ]
  },
  {
   "cell_type": "markdown",
   "metadata": {},
   "source": [
    "# Training the models Naîve Bayes and Logistic Regression"
   ]
  },
  {
   "cell_type": "markdown",
   "metadata": {},
   "source": [
    "### Fit the logistic regression algorithme"
   ]
  },
  {
   "cell_type": "code",
   "execution_count": 9,
   "metadata": {},
   "outputs": [
    {
     "data": {
      "text/plain": [
       "MultinomialNB()"
      ]
     },
     "execution_count": 9,
     "metadata": {},
     "output_type": "execute_result"
    }
   ],
   "source": [
    "from sklearn.linear_model import LogisticRegression\n",
    "classifierL =LogisticRegression()\n",
    "classifierL.fit(text_train,sent_train)"
   ]
  },
  {
   "cell_type": "markdown",
   "metadata": {},
   "source": [
    "### Fit the naîve bayes algorithme"
   ]
  },
  {
   "cell_type": "code",
   "execution_count": null,
   "metadata": {},
   "outputs": [],
   "source": [
    "from sklearn.naive_bayes import MultinomialNB\n",
    "classifierB = MultinomialNB()\n",
    "classifierB.fit(text_train,sent_train)"
   ]
  },
  {
   "cell_type": "markdown",
   "metadata": {},
   "source": [
    "# Test performence\n",
    "#### Comparaison entre Logistic Regression et Naîve Bayes en utilisonts la matrice de confusion et fscore recall occurity pressision "
   ]
  },
  {
   "cell_type": "code",
   "execution_count": 10,
   "metadata": {},
   "outputs": [
    {
     "name": "stdout",
     "output_type": "stream",
     "text": [
      "table de confusion NaïveBayes\n",
      " [[2311  331]\n",
      " [ 350 2288]]\n",
      "\n",
      "table de confusion Logistique Régression\n",
      " [[2314  328]\n",
      " [ 241 2397]]\n",
      "precession Naïve Bayes:  0.8747161241483724\n",
      "pricession Logistique Regression:  0.8758516275548827\n",
      "Rappel de Naïve Bayes:  0.8684704998121007\n",
      "Rappel de Logistique Regression:  0.9045009784735812\n",
      "F1_mesure de Naïve Bayes:  0.8715821233264189\n",
      "F1_mesure de Logistique Regression:  0.8899457910063062\n"
     ]
    }
   ],
   "source": [
    "sent_predB = classifierB.predict(text_test)\n",
    "sent_predL= classifierL.predict(text_test)\n",
    "\n",
    "from sklearn.metrics import confusion_matrix\n",
    "cmB=confusion_matrix(sent_test,sent_predB)\n",
    "cmL=confusion_matrix(sent_test,sent_predL)\n",
    "print(\"table de confusion NaïveBayes\\n\",cmB)\n",
    "print(\"\\ntable de confusion Logistique Régression\\n\",cmL)\n",
    " \n",
    "VPB=cmB[0,0]\n",
    "FPB=cmB[0,1]\n",
    "FNB=cmB[1,0]\n",
    "VNB=cmB[1,1]\n",
    "\n",
    "\n",
    "VPL=cmL[0,0]\n",
    "FPL=cmL[0,1]\n",
    "FNL=cmL[1,0]\n",
    "VNL=cmL[1,1]\n",
    "\n",
    "\n",
    "PrecisionB=VPB/(VPB+FPB)\n",
    "RappelB=VPB/(VPB+FNB)\n",
    "F1_mesureB=2*PrecisionB*RappelB/(PrecisionB+RappelB)\n",
    "\n",
    "\n",
    "PrecisionL=VPL/(VPL+FPL)\n",
    "RappelL=VPB/(VPL+FNL)\n",
    "F1_mesureL=2*PrecisionL*RappelL/(PrecisionL+RappelL)\n",
    "\n",
    "\n",
    "print(\"precession Naïve Bayes: \",PrecisionB)\n",
    "print(\"pricession Logistique Regression: \",PrecisionL)\n",
    "print(\"Rappel de Naïve Bayes: \",RappelB)\n",
    "print(\"Rappel de Logistique Regression: \",RappelL)\n",
    "print(\"F1_mesure de Naïve Bayes: \",F1_mesureB)\n",
    "print(\"F1_mesure de Logistique Regression: \",F1_mesureL)\n",
    "\n"
   ]
  },
  {
   "cell_type": "markdown",
   "metadata": {},
   "source": [
    "# Pickling the classifiers Logistic and Bayes and victorizer"
   ]
  },
  {
   "cell_type": "code",
   "execution_count": 11,
   "metadata": {},
   "outputs": [],
   "source": [
    "with open('classifierB.pickle','wb') as f:\n",
    "    pickle.dump(classifierB,f)\n",
    "   \n",
    "#Pickling the classifire Logistic \n",
    "with open('classifierL.pickle','wb') as f:\n",
    "    pickle.dump(classifierL,f)\n",
    "    \n",
    "#pickling the vectorizer\n",
    "with open('tfidfmodel.pickle','wb') as f:\n",
    "        pickle.dump(vectorizer,f)\n",
    "     \n"
   ]
  },
  {
   "cell_type": "markdown",
   "metadata": {},
   "source": [
    "# Importer et utilisée le modèle classifieur\n",
    "### unpickling the classifire and vectorizer"
   ]
  },
  {
   "cell_type": "code",
   "execution_count": 12,
   "metadata": {},
   "outputs": [],
   "source": [
    "\n",
    "with open('classifierL.pickle','rb') as f:\n",
    "    clfL=pickle.load(f)\n",
    "    \n",
    "with open('classifierB.pickle','rb') as f:\n",
    "        clfB=pickle.load(f)\n",
    "        \n",
    "with open('tfidfmodel.pickle','rb') as f:\n",
    "    tfidf=pickle.load(f)\n",
    "    "
   ]
  },
  {
   "cell_type": "markdown",
   "metadata": {},
   "source": [
    "# Test du modèle"
   ]
  },
  {
   "cell_type": "code",
   "execution_count": 22,
   "metadata": {},
   "outputs": [
    {
     "name": "stdout",
     "output_type": "stream",
     "text": [
      "<<phrase polarity en utilisant bayes>>\n",
      "\n",
      "la phrase que vous avez entrée est positive\n",
      "\n",
      "<<phrase polarity en utilisant Logistque Regression>>\n",
      "\n",
      "la phrase que vous avez entrée est positive\n",
      "\n"
     ]
    }
   ],
   "source": [
    "\n",
    "test =[\"i liked my self\"]\n",
    "test=tfidf.transform(test).toarray()\n",
    "sentB = clfB.predict(test)\n",
    "sentL = clfL.predict(test)\n",
    "print(\"<<phrase polarity en utilisant bayes>>\\n\")\n",
    "if sentB[0] == 1:\n",
    "            print(\"la phrase que vous avez entrée est positive\")\n",
    "else:\n",
    "       print(\"la phrase que vous avez entrée est négative\\n\")\n",
    "\n",
    "print(\"\\n<<phrase polarity en utilisant Logistque Regression>>\\n\")\n",
    "if sentL[0] == 1:\n",
    "            print(\"la phrase que vous avez entrée est positive\\n\")\n",
    "else:\n",
    "       print(\"la phrase que vous avez entrée est négative\\n\")\n",
    "\n",
    "       \n",
    "       "
   ]
  },
  {
   "cell_type": "markdown",
   "metadata": {},
   "source": [
    "# Application du modèle classifieur sur les données extrer d'après twetter   "
   ]
  },
  {
   "cell_type": "markdown",
   "metadata": {},
   "source": [
    "# Initialising the keys"
   ]
  },
  {
   "cell_type": "code",
   "execution_count": 32,
   "metadata": {},
   "outputs": [],
   "source": [
    "consumer_key='A7zEJHYcutt3U37c4JEEcSXtA'\n",
    "consumer_secret='ZCseQI6Tvo604hLNt2nXwpTLKqtx8bQwXgpbkeAVnodyoanORw'\n",
    "access_token='1107606361901289472-1g12pcv7I03dzzPAvqVBNqtUidDItP'\n",
    "access_secret='OMEha5VviMEmf8mBSDNhGjh17Z6qXtd8Ea6sCPtdboLOl'\n",
    "auth = OAuthHandler(consumer_key,consumer_secret)\n",
    "auth.set_access_token(access_token,access_secret)"
   ]
  },
  {
   "cell_type": "markdown",
   "metadata": {},
   "source": [
    "# Extraction des tweets"
   ]
  },
  {
   "cell_type": "code",
   "execution_count": 45,
   "metadata": {},
   "outputs": [],
   "source": [
    "args = ['corona virus']\n",
    "api = tweepy.API(auth,timeout=10)\n",
    "\n",
    "list_tweets = []\n",
    "\n",
    "query = args[0]\n",
    "\n",
    "if len(args) == 1:\n",
    "    for status in tweepy.Cursor(api.search,q=query+\" -filter:retweets\",lang='en',result_type='re').items(100):\n",
    "        list_tweets.append(status.text)\n"
   ]
  },
  {
   "cell_type": "markdown",
   "metadata": {},
   "source": [
    "# Nettoyage des tweets et prediction des sentiments"
   ]
  },
  {
   "cell_type": "code",
   "execution_count": 46,
   "metadata": {},
   "outputs": [
    {
     "name": "stdout",
     "output_type": "stream",
     "text": [
      "\n",
      "<<<<<:::::::Bayes polarity :::::::::>>>>  0 \n",
      "  don t see anyone blaming the outrageous corona virus numbers spikes in the u on the massive demonstrations that  \n",
      "\n",
      " <<<<<<<:::::::Logistic polarity::::::::::::>>>>  0 \n",
      "  don t see anyone blaming the outrageous corona virus numbers spikes in the u on the massive demonstrations that \n",
      "\n",
      "<<<<<:::::::Bayes polarity :::::::::>>>>  0 \n",
      "  tv _ghana female moses of century do wild and talk to god for us about this virus called corona \n",
      "\n",
      " <<<<<<<:::::::Logistic polarity::::::::::::>>>>  0 \n",
      "  tv _ghana female moses of century do wild and talk to god for us about this virus called corona\n",
      "\n",
      "<<<<<:::::::Bayes polarity :::::::::>>>>  0 \n",
      "  karnivorous h h productions _shade_ is your handle come from the words corona virus cau it looks like it  \n",
      "\n",
      " <<<<<<<:::::::Logistic polarity::::::::::::>>>>  0 \n",
      "  karnivorous h h productions _shade_ is your handle come from the words corona virus cau it looks like it \n",
      "\n",
      "<<<<<:::::::Bayes polarity :::::::::>>>>  0 \n",
      " corona cases at india crosses have recovered from corona virus cases at india are the activ  \n",
      "\n",
      " <<<<<<<:::::::Logistic polarity::::::::::::>>>>  0 \n",
      " corona cases at india crosses have recovered from corona virus cases at india are the activ \n",
      "\n",
      "<<<<<:::::::Bayes polarity :::::::::>>>>  0 \n",
      "  masteridrees clarkemicah masks as n stops of particles larger than microns corona virus particles are  \n",
      "\n",
      " <<<<<<<:::::::Logistic polarity::::::::::::>>>>  0 \n",
      "  masteridrees clarkemicah masks as n stops of particles larger than microns corona virus particles are \n",
      "\n",
      "<<<<<:::::::Bayes polarity :::::::::>>>>  0 \n",
      " covid three lille players te positive for corona virus  \n",
      "\n",
      " <<<<<<<:::::::Logistic polarity::::::::::::>>>>  0 \n",
      " covid three lille players te positive for corona virus \n",
      "\n",
      "<<<<<:::::::Bayes polarity :::::::::>>>>  1 \n",
      "  mood all da chit chat chitchat heat trap lurking drill grafitti nyc bronx brooklyn art stealth  \n",
      "\n",
      " <<<<<<<:::::::Logistic polarity::::::::::::>>>>  1 \n",
      "  mood all da chit chat chitchat heat trap lurking drill grafitti nyc bronx brooklyn art stealth \n",
      "\n",
      "<<<<<:::::::Bayes polarity :::::::::>>>>  1 \n",
      "  thbattalion afp for your information with your fir point the uae has sent more than tonnes of aid to hel  \n",
      "\n",
      " <<<<<<<:::::::Logistic polarity::::::::::::>>>>  1 \n",
      "  thbattalion afp for your information with your fir point the uae has sent more than tonnes of aid to hel \n",
      "\n",
      "<<<<<:::::::Bayes polarity :::::::::>>>>  0 \n",
      "  tedcruz as opposed to the gop kidnapping people in portland and refusing to lead in the corona virus fight i mean  \n",
      "\n",
      " <<<<<<<:::::::Logistic polarity::::::::::::>>>>  0 \n",
      "  tedcruz as opposed to the gop kidnapping people in portland and refusing to lead in the corona virus fight i mean \n",
      "\n",
      "<<<<<:::::::Bayes polarity :::::::::>>>>  0 \n",
      "  erictrump you mean like suggesting bleach injection and sunshine might cure the corona virus it is ju a  \n",
      "\n",
      " <<<<<<<:::::::Logistic polarity::::::::::::>>>>  0 \n",
      "  erictrump you mean like suggesting bleach injection and sunshine might cure the corona virus it is ju a \n",
      "\n",
      "<<<<<:::::::Bayes polarity :::::::::>>>>  0 \n",
      "  nwanyi_mma the network someone is talking about corona virus and its poor management but your own is traffic light what do i even know  \n",
      "\n",
      " <<<<<<<:::::::Logistic polarity::::::::::::>>>>  0 \n",
      "  nwanyi_mma the network someone is talking about corona virus and its poor management but your own is traffic light what do i even know \n",
      "\n",
      "<<<<<:::::::Bayes polarity :::::::::>>>>  0 \n",
      "  brandy_elle well we can they do it with the flu vaccine i believe they ve made vaccines for earlier corona v  \n",
      "\n",
      " <<<<<<<:::::::Logistic polarity::::::::::::>>>>  1 \n",
      "  brandy_elle well we can they do it with the flu vaccine i believe they ve made vaccines for earlier corona v \n",
      "\n",
      "<<<<<:::::::Bayes polarity :::::::::>>>>  0 \n",
      "  standamericanow nikkihaley it took corona virus to make this ca seriously it wa t the geez why are we econ  \n",
      "\n",
      " <<<<<<<:::::::Logistic polarity::::::::::::>>>>  0 \n",
      "  standamericanow nikkihaley it took corona virus to make this ca seriously it wa t the geez why are we econ \n",
      "\n",
      "<<<<<:::::::Bayes polarity :::::::::>>>>  0 \n",
      " call me cynical but if you have to do your own swab for corona virus then i doubt you re doing it as rigorously a  \n",
      "\n",
      " <<<<<<<:::::::Logistic polarity::::::::::::>>>>  0 \n",
      " call me cynical but if you have to do your own swab for corona virus then i doubt you re doing it as rigorously a \n",
      "\n",
      "<<<<<:::::::Bayes polarity :::::::::>>>>  0 \n",
      "  bbbbcubed lilytbd can_libertarian corona virus micron meaning virus size is cloth or surgical masks block an  \n",
      "\n",
      " <<<<<<<:::::::Logistic polarity::::::::::::>>>>  0 \n",
      "  bbbbcubed lilytbd can_libertarian corona virus micron meaning virus size is cloth or surgical masks block an \n",
      "\n",
      "<<<<<:::::::Bayes polarity :::::::::>>>>  1 \n",
      "  andredowi anonymousink recessionroadie soledadobrien they died in nursing homes becau the nursing homes wer  \n",
      "\n",
      " <<<<<<<:::::::Logistic polarity::::::::::::>>>>  1 \n",
      "  andredowi anonymousink recessionroadie soledadobrien they died in nursing homes becau the nursing homes wer \n",
      "\n",
      "<<<<<:::::::Bayes polarity :::::::::>>>>  0 \n",
      " mad that people don t believe in corona virus but believe leaving some crystals in the moonlight will make you feel better \n",
      "\n",
      " <<<<<<<:::::::Logistic polarity::::::::::::>>>>  0 \n",
      " mad that people don t believe in corona virus but believe leaving some crystals in the moonlight will make you feel better\n",
      "\n",
      "<<<<<:::::::Bayes polarity :::::::::>>>>  0 \n",
      " only testing for the corona virus a general te to see if you have the common flu  \n",
      "\n",
      " <<<<<<<:::::::Logistic polarity::::::::::::>>>>  0 \n",
      " only testing for the corona virus a general te to see if you have the common flu \n",
      "\n",
      "<<<<<:::::::Bayes polarity :::::::::>>>>  1 \n",
      "  _jon_doe hiiammikec conservblue tomilahren you worry more about stepping on dirty needles than getting  \n",
      "\n",
      " <<<<<<<:::::::Logistic polarity::::::::::::>>>>  1 \n",
      "  _jon_doe hiiammikec conservblue tomilahren you worry more about stepping on dirty needles than getting \n",
      "\n",
      "<<<<<:::::::Bayes polarity :::::::::>>>>  0 \n",
      "  repannwagner why do republicans have no plan to contain the corona virus pandemic  \n",
      "\n",
      " <<<<<<<:::::::Logistic polarity::::::::::::>>>>  0 \n",
      "  repannwagner why do republicans have no plan to contain the corona virus pandemic \n",
      "\n",
      "<<<<<:::::::Bayes polarity :::::::::>>>>  0 \n",
      "  johnharpa of labour swing voters in wakefield we yorkshire said they would like to see large aspects of la  \n",
      "\n",
      " <<<<<<<:::::::Logistic polarity::::::::::::>>>>  0 \n",
      "  johnharpa of labour swing voters in wakefield we yorkshire said they would like to see large aspects of la \n",
      "\n",
      "<<<<<:::::::Bayes polarity :::::::::>>>>  0 \n",
      "  clydebuilt of labour swing voters in wakefield we yorkshire said they would like to see large aspects  \n",
      "\n",
      " <<<<<<<:::::::Logistic polarity::::::::::::>>>>  0 \n",
      "  clydebuilt of labour swing voters in wakefield we yorkshire said they would like to see large aspects \n",
      "\n",
      "<<<<<:::::::Bayes polarity :::::::::>>>>  0 \n",
      "  bbcnews what the chine government acting appallingly again what after corona virus amp hong kong noooo surely not  \n",
      "\n",
      " <<<<<<<:::::::Logistic polarity::::::::::::>>>>  0 \n",
      "  bbcnews what the chine government acting appallingly again what after corona virus amp hong kong noooo surely not \n",
      "\n",
      "<<<<<:::::::Bayes polarity :::::::::>>>>  0 \n",
      "  david_t_evans of labour swing voters in wakefield we yorkshire said they would like to see large aspects o  \n",
      "\n",
      " <<<<<<<:::::::Logistic polarity::::::::::::>>>>  0 \n",
      "  david_t_evans of labour swing voters in wakefield we yorkshire said they would like to see large aspects o \n",
      "\n",
      "<<<<<:::::::Bayes polarity :::::::::>>>>  0 \n",
      "  whitehou exploiting the corona virus bahahaha i thought it was a hoax  \n",
      "\n",
      " <<<<<<<:::::::Logistic polarity::::::::::::>>>>  0 \n",
      "  whitehou exploiting the corona virus bahahaha i thought it was a hoax \n",
      "\n",
      "<<<<<:::::::Bayes polarity :::::::::>>>>  0 \n",
      "  royblunt senalexander why do republicans have no plan to contain the corona virus pandemic  \n",
      "\n",
      " <<<<<<<:::::::Logistic polarity::::::::::::>>>>  0 \n",
      "  royblunt senalexander why do republicans have no plan to contain the corona virus pandemic \n",
      "\n",
      "<<<<<:::::::Bayes polarity :::::::::>>>>  0 \n",
      "  robertowiop i haven t been legible for any government help during the corona virus pandemic as i am a ltd company a  \n",
      "\n",
      " <<<<<<<:::::::Logistic polarity::::::::::::>>>>  0 \n",
      "  robertowiop i haven t been legible for any government help during the corona virus pandemic as i am a ltd company a \n",
      "\n",
      "<<<<<:::::::Bayes polarity :::::::::>>>>  1 \n",
      "  govsisolak you gonna help casino workers being affected by this corona virus at any point like at lea acknow  \n",
      "\n",
      " <<<<<<<:::::::Logistic polarity::::::::::::>>>>  0 \n",
      "  govsisolak you gonna help casino workers being affected by this corona virus at any point like at lea acknow \n",
      "\n",
      "<<<<<:::::::Bayes polarity :::::::::>>>>  0 \n",
      "  weijia we knew trump was trying to ignore the corona virus and blame the individual states for any mishaps we  \n",
      "\n",
      " <<<<<<<:::::::Logistic polarity::::::::::::>>>>  0 \n",
      "  weijia we knew trump was trying to ignore the corona virus and blame the individual states for any mishaps we \n",
      "\n",
      "<<<<<:::::::Bayes polarity :::::::::>>>>  1 \n",
      "  big domino nfl nflcommi bruh solomonswisdom was and xm saying the players have to give back and comparing t  \n",
      "\n",
      " <<<<<<<:::::::Logistic polarity::::::::::::>>>>  0 \n",
      "  big domino nfl nflcommi bruh solomonswisdom was and xm saying the players have to give back and comparing t \n",
      "\n",
      "<<<<<:::::::Bayes polarity :::::::::>>>>  1 \n",
      " do u kn corona virus had been ravaging ppl in america nd europe nd even wen dey kn the virus came from china bt nev  \n",
      "\n",
      " <<<<<<<:::::::Logistic polarity::::::::::::>>>>  0 \n",
      " do u kn corona virus had been ravaging ppl in america nd europe nd even wen dey kn the virus came from china bt nev \n",
      "\n",
      "<<<<<:::::::Bayes polarity :::::::::>>>>  0 \n",
      " idiot realdonaldtrump says we are testing more we have more corona virus cases if we slow down in looking for  \n",
      "\n",
      " <<<<<<<:::::::Logistic polarity::::::::::::>>>>  0 \n",
      " idiot realdonaldtrump says we are testing more we have more corona virus cases if we slow down in looking for \n",
      "\n",
      "<<<<<:::::::Bayes polarity :::::::::>>>>  1 \n",
      "  tmsbtc zerohedge or the cdc mixing antibody tests with active corona virus tests aka pa exposure vs current c  \n",
      "\n",
      " <<<<<<<:::::::Logistic polarity::::::::::::>>>>  1 \n",
      "  tmsbtc zerohedge or the cdc mixing antibody tests with active corona virus tests aka pa exposure vs current c \n",
      "\n",
      "<<<<<:::::::Bayes polarity :::::::::>>>>  0 \n",
      " see this virus hve come to stay it is nt going anywhere even oga kpata kpata of corona self wuhan is back to norm  \n",
      "\n",
      " <<<<<<<:::::::Logistic polarity::::::::::::>>>>  0 \n",
      " see this virus hve come to stay it is nt going anywhere even oga kpata kpata of corona self wuhan is back to norm \n",
      "\n",
      "<<<<<:::::::Bayes polarity :::::::::>>>>  0 \n",
      "  realdonaldtrump potus the corona virus is not going to fucking disappear you arrogant little prick  \n",
      "\n",
      " <<<<<<<:::::::Logistic polarity::::::::::::>>>>  0 \n",
      "  realdonaldtrump potus the corona virus is not going to fucking disappear you arrogant little prick \n",
      "\n",
      "<<<<<:::::::Bayes polarity :::::::::>>>>  0 \n",
      "  yungblud that is one way to spread corona virus lol \n",
      "\n",
      " <<<<<<<:::::::Logistic polarity::::::::::::>>>>  1 \n",
      "  yungblud that is one way to spread corona virus lol\n",
      "\n",
      "<<<<<:::::::Bayes polarity :::::::::>>>>  0 \n",
      "  subschneider fear of radiation is often ju as irrational as the fear of corona the panic reaction to this vir  \n",
      "\n",
      " <<<<<<<:::::::Logistic polarity::::::::::::>>>>  1 \n",
      "  subschneider fear of radiation is often ju as irrational as the fear of corona the panic reaction to this vir \n",
      "\n",
      "<<<<<:::::::Bayes polarity :::::::::>>>>  0 \n",
      " tru me as for now corona virus no dey exi again cau bbnaijaseason go boo our immune system \n",
      "\n",
      " <<<<<<<:::::::Logistic polarity::::::::::::>>>>  0 \n",
      " tru me as for now corona virus no dey exi again cau bbnaijaseason go boo our immune system\n",
      "\n",
      "<<<<<:::::::Bayes polarity :::::::::>>>>  0 \n",
      "  bbcnews thats were they developed the corona virus \n",
      "\n",
      " <<<<<<<:::::::Logistic polarity::::::::::::>>>>  0 \n",
      "  bbcnews thats were they developed the corona virus\n",
      "\n",
      "<<<<<:::::::Bayes polarity :::::::::>>>>  0 \n",
      "  oddy real dondekojo corona virus could be on the floor this i t safe he s cute tho  \n",
      "\n",
      " <<<<<<<:::::::Logistic polarity::::::::::::>>>>  0 \n",
      "  oddy real dondekojo corona virus could be on the floor this i t safe he s cute tho \n",
      "\n",
      "<<<<<:::::::Bayes polarity :::::::::>>>>  0 \n",
      "  ju wanna know why all the youtube famous people throwing parties like the corona virus is not still around d  \n",
      "\n",
      " <<<<<<<:::::::Logistic polarity::::::::::::>>>>  1 \n",
      "  ju wanna know why all the youtube famous people throwing parties like the corona virus is not still around d \n",
      "\n",
      "<<<<<:::::::Bayes polarity :::::::::>>>>  0 \n",
      " every morning this week i have woken up thinking i ve corona virus ju to remember that i have hay fever and  \n",
      "\n",
      " <<<<<<<:::::::Logistic polarity::::::::::::>>>>  1 \n",
      " every morning this week i have woken up thinking i ve corona virus ju to remember that i have hay fever and \n",
      "\n",
      "<<<<<:::::::Bayes polarity :::::::::>>>>  1 \n",
      " since the beginning of lockdown i have been documenting the impact that corona virus is having on my hometown of pr  \n",
      "\n",
      " <<<<<<<:::::::Logistic polarity::::::::::::>>>>  1 \n",
      " since the beginning of lockdown i have been documenting the impact that corona virus is having on my hometown of pr \n",
      "\n",
      "<<<<<:::::::Bayes polarity :::::::::>>>>  0 \n",
      "  scaitcock katelikesthepbr govpritzker idph the corona virus was never a big deal k of the deaths were from  \n",
      "\n",
      " <<<<<<<:::::::Logistic polarity::::::::::::>>>>  1 \n",
      "  scaitcock katelikesthepbr govpritzker idph the corona virus was never a big deal k of the deaths were from \n",
      "\n",
      "<<<<<:::::::Bayes polarity :::::::::>>>>  0 \n",
      "  shameonyoumr sixq q q breitbartnews la time she blamed corona virus  \n",
      "\n",
      " <<<<<<<:::::::Logistic polarity::::::::::::>>>>  0 \n",
      "  shameonyoumr sixq q q breitbartnews la time she blamed corona virus \n",
      "\n",
      "<<<<<:::::::Bayes polarity :::::::::>>>>  0 \n",
      " it s been a long time coming and the need for it has nothing to do with a corona virus  \n",
      "\n",
      " <<<<<<<:::::::Logistic polarity::::::::::::>>>>  0 \n",
      " it s been a long time coming and the need for it has nothing to do with a corona virus \n",
      "\n",
      "<<<<<:::::::Bayes polarity :::::::::>>>>  0 \n",
      "  breitbartnews lilbittyro is it still becau of corona virus or will she finally take responsibility oh wait that s not their thing \n",
      "\n",
      " <<<<<<<:::::::Logistic polarity::::::::::::>>>>  0 \n",
      "  breitbartnews lilbittyro is it still becau of corona virus or will she finally take responsibility oh wait that s not their thing\n",
      "\n",
      "<<<<<:::::::Bayes polarity :::::::::>>>>  0 \n",
      "  h_mitchellphoto he wouldn t even know how radiation works it s invisible too ju like the corona virus can yo  \n",
      "\n",
      " <<<<<<<:::::::Logistic polarity::::::::::::>>>>  0 \n",
      "  h_mitchellphoto he wouldn t even know how radiation works it s invisible too ju like the corona virus can yo \n",
      "\n",
      "<<<<<:::::::Bayes polarity :::::::::>>>>  0 \n",
      "  sebastiennel petar work is going well work started on july after a break in the corona virus \n",
      "\n",
      " <<<<<<<:::::::Logistic polarity::::::::::::>>>>  1 \n",
      "  sebastiennel petar work is going well work started on july after a break in the corona virus\n"
     ]
    },
    {
     "name": "stdout",
     "output_type": "stream",
     "text": [
      "\n",
      "<<<<<:::::::Bayes polarity :::::::::>>>>  0 \n",
      "  dln rollchan oh god the corona virus is getting into technology we are fuuuuuuuuuuucked  \n",
      "\n",
      " <<<<<<<:::::::Logistic polarity::::::::::::>>>>  0 \n",
      "  dln rollchan oh god the corona virus is getting into technology we are fuuuuuuuuuuucked \n",
      "\n",
      "<<<<<:::::::Bayes polarity :::::::::>>>>  0 \n",
      "  odunadekolade daddy g pls help me wit littlet amount to feed my children my husband have stop workin due to corona virus pls sir \n",
      "\n",
      " <<<<<<<:::::::Logistic polarity::::::::::::>>>>  0 \n",
      "  odunadekolade daddy g pls help me wit littlet amount to feed my children my husband have stop workin due to corona virus pls sir\n",
      "\n",
      "<<<<<:::::::Bayes polarity :::::::::>>>>  1 \n",
      "  breaking in the u died from the corona virus \n",
      "\n",
      " <<<<<<<:::::::Logistic polarity::::::::::::>>>>  1 \n",
      "  breaking in the u died from the corona virus\n",
      "\n",
      "<<<<<:::::::Bayes polarity :::::::::>>>>  0 \n",
      "  dorathy there is trouble this year oo this is the long waited cure for corona virus in the morning in the aft  \n",
      "\n",
      " <<<<<<<:::::::Logistic polarity::::::::::::>>>>  0 \n",
      "  dorathy there is trouble this year oo this is the long waited cure for corona virus in the morning in the aft \n",
      "\n",
      "<<<<<:::::::Bayes polarity :::::::::>>>>  0 \n",
      " by now reading room committee would ve assembled we would ve been taking sleeping shifts and leaving po its on  \n",
      "\n",
      " <<<<<<<:::::::Logistic polarity::::::::::::>>>>  0 \n",
      " by now reading room committee would ve assembled we would ve been taking sleeping shifts and leaving po its on \n",
      "\n",
      "<<<<<:::::::Bayes polarity :::::::::>>>>  0 \n",
      "  bubblyjule miami mo corona virus cases to date baby  \n",
      "\n",
      " <<<<<<<:::::::Logistic polarity::::::::::::>>>>  0 \n",
      "  bubblyjule miami mo corona virus cases to date baby \n",
      "\n",
      "<<<<<:::::::Bayes polarity :::::::::>>>>  1 \n",
      "  buggirl my name is jaylyn and my dogs name is corona we got her in june of la year i promi we didn t name h  \n",
      "\n",
      " <<<<<<<:::::::Logistic polarity::::::::::::>>>>  0 \n",
      "  buggirl my name is jaylyn and my dogs name is corona we got her in june of la year i promi we didn t name h \n",
      "\n",
      "<<<<<:::::::Bayes polarity :::::::::>>>>  1 \n",
      " trump really cracks me up he said we are the envy of the world when it comes to testing for corona virus  \n",
      "\n",
      " <<<<<<<:::::::Logistic polarity::::::::::::>>>>  1 \n",
      " trump really cracks me up he said we are the envy of the world when it comes to testing for corona virus \n",
      "\n",
      "<<<<<:::::::Bayes polarity :::::::::>>>>  0 \n",
      " man my shoes been taking way too long to get here fuck corona virus i shoulda had dem bitches friday \n",
      "\n",
      " <<<<<<<:::::::Logistic polarity::::::::::::>>>>  0 \n",
      " man my shoes been taking way too long to get here fuck corona virus i shoulda had dem bitches friday\n",
      "\n",
      "<<<<<:::::::Bayes polarity :::::::::>>>>  1 \n",
      " can my masks come in preferably before i contract corona virus thanks  \n",
      "\n",
      " <<<<<<<:::::::Logistic polarity::::::::::::>>>>  1 \n",
      " can my masks come in preferably before i contract corona virus thanks \n",
      "\n",
      "<<<<<:::::::Bayes polarity :::::::::>>>>  0 \n",
      " dear fg we need months lockdown plea corona virus is fa rising again relea us after bbnaija \n",
      "\n",
      " <<<<<<<:::::::Logistic polarity::::::::::::>>>>  0 \n",
      " dear fg we need months lockdown plea corona virus is fa rising again relea us after bbnaija\n",
      "\n",
      "<<<<<:::::::Bayes polarity :::::::::>>>>  0 \n",
      " mikel arteta becomes the fir premier league manager to beat jurgen klopp s liverpool pep guardiola s manchester  \n",
      "\n",
      " <<<<<<<:::::::Logistic polarity::::::::::::>>>>  0 \n",
      " mikel arteta becomes the fir premier league manager to beat jurgen klopp s liverpool pep guardiola s manchester \n",
      "\n",
      "<<<<<:::::::Bayes polarity :::::::::>>>>  0 \n",
      "  fionula johnestevens sophyridgesky i dont think malaria is a big killer in the uk and since brits apparently do  \n",
      "\n",
      " <<<<<<<:::::::Logistic polarity::::::::::::>>>>  0 \n",
      "  fionula johnestevens sophyridgesky i dont think malaria is a big killer in the uk and since brits apparently do \n",
      "\n",
      "<<<<<:::::::Bayes polarity :::::::::>>>>  0 \n",
      " that s why y all couldn t even them bats alone and you got corona virus \n",
      "\n",
      " <<<<<<<:::::::Logistic polarity::::::::::::>>>>  0 \n",
      " that s why y all couldn t even them bats alone and you got corona virus\n",
      "\n",
      "<<<<<:::::::Bayes polarity :::::::::>>>>  1 \n",
      "  abc i would rather vote for corona virus covid is not going away by election day we should have it on the  \n",
      "\n",
      " <<<<<<<:::::::Logistic polarity::::::::::::>>>>  0 \n",
      "  abc i would rather vote for corona virus covid is not going away by election day we should have it on the \n",
      "\n",
      "<<<<<:::::::Bayes polarity :::::::::>>>>  1 \n",
      "  abcnews daniel andrews s government does not have a grip on the corona virus crisis new cases yesterday an  \n",
      "\n",
      " <<<<<<<:::::::Logistic polarity::::::::::::>>>>  1 \n",
      "  abcnews daniel andrews s government does not have a grip on the corona virus crisis new cases yesterday an \n",
      "\n",
      "<<<<<:::::::Bayes polarity :::::::::>>>>  0 \n",
      " science is hard let s go to the mall and pa out corona virus  \n",
      "\n",
      " <<<<<<<:::::::Logistic polarity::::::::::::>>>>  0 \n",
      " science is hard let s go to the mall and pa out corona virus \n",
      "\n",
      "<<<<<:::::::Bayes polarity :::::::::>>>>  0 \n",
      " corona virus wack cus i haven t hugged my grandma properly in months that shit sucks \n",
      "\n",
      " <<<<<<<:::::::Logistic polarity::::::::::::>>>>  0 \n",
      " corona virus wack cus i haven t hugged my grandma properly in months that shit sucks\n",
      "\n",
      "<<<<<:::::::Bayes polarity :::::::::>>>>  0 \n",
      " what are the steps your practice needs to take to bounceback from coronavirus find out more here  \n",
      "\n",
      " <<<<<<<:::::::Logistic polarity::::::::::::>>>>  1 \n",
      " what are the steps your practice needs to take to bounceback from coronavirus find out more here \n",
      "\n",
      "<<<<<:::::::Bayes polarity :::::::::>>>>  1 \n",
      " panic uz suspected corona virus cases spread as revisions amp exam venues are nt getting fumigated after u by one g  \n",
      "\n",
      " <<<<<<<:::::::Logistic polarity::::::::::::>>>>  0 \n",
      " panic uz suspected corona virus cases spread as revisions amp exam venues are nt getting fumigated after u by one g \n",
      "\n",
      "<<<<<:::::::Bayes polarity :::::::::>>>>  0 \n",
      "  anthonysabatini floridadbpr and your reason for that to get more people infected is that like the irresponsib  \n",
      "\n",
      " <<<<<<<:::::::Logistic polarity::::::::::::>>>>  0 \n",
      "  anthonysabatini floridadbpr and your reason for that to get more people infected is that like the irresponsib \n",
      "\n",
      "<<<<<:::::::Bayes polarity :::::::::>>>>  0 \n",
      " mas told me if you know you got the corona virus you better go get tested lil dude gtf  \n",
      "\n",
      " <<<<<<<:::::::Logistic polarity::::::::::::>>>>  0 \n",
      " mas told me if you know you got the corona virus you better go get tested lil dude gtf \n",
      "\n",
      "<<<<<:::::::Bayes polarity :::::::::>>>>  0 \n",
      "  tweettruth me not to pile on one of the smarte ladies on twitter liberals take a bath hygiene matters and  \n",
      "\n",
      " <<<<<<<:::::::Logistic polarity::::::::::::>>>>  1 \n",
      "  tweettruth me not to pile on one of the smarte ladies on twitter liberals take a bath hygiene matters and \n",
      "\n",
      "<<<<<:::::::Bayes polarity :::::::::>>>>  1 \n",
      "  davidzh dheeruu uu globaltimesnews we know the habit of china if snatching land from another country ti  \n",
      "\n",
      " <<<<<<<:::::::Logistic polarity::::::::::::>>>>  1 \n",
      "  davidzh dheeruu uu globaltimesnews we know the habit of china if snatching land from another country ti \n",
      "\n",
      "<<<<<:::::::Bayes polarity :::::::::>>>>  0 \n",
      " is it ju me or does the corona virus seem like the snap by thanos in infinity war  \n",
      "\n",
      " <<<<<<<:::::::Logistic polarity::::::::::::>>>>  0 \n",
      " is it ju me or does the corona virus seem like the snap by thanos in infinity war \n",
      "\n",
      "<<<<<:::::::Bayes polarity :::::::::>>>>  1 \n",
      " corona virus will not go away until the things are released murderers of south korean and american mu be d  \n",
      "\n",
      " <<<<<<<:::::::Logistic polarity::::::::::::>>>>  1 \n",
      " corona virus will not go away until the things are released murderers of south korean and american mu be d \n",
      "\n",
      "<<<<<:::::::Bayes polarity :::::::::>>>>  1 \n",
      "  speakerpelo u have done nothing in years ur focus has no focus ur party is full of hate and where there  \n",
      "\n",
      " <<<<<<<:::::::Logistic polarity::::::::::::>>>>  1 \n",
      "  speakerpelo u have done nothing in years ur focus has no focus ur party is full of hate and where there \n",
      "\n",
      "<<<<<:::::::Bayes polarity :::::::::>>>>  0 \n",
      "  whitehou fauci approved hydroxychloriquine for corona virus in how was m reporting deaths amp cases of  \n",
      "\n",
      " <<<<<<<:::::::Logistic polarity::::::::::::>>>>  0 \n",
      "  whitehou fauci approved hydroxychloriquine for corona virus in how was m reporting deaths amp cases of \n",
      "\n",
      "<<<<<:::::::Bayes polarity :::::::::>>>>  1 \n",
      " there is a leadership crisis acro the world more than ever before have we seen practically how a leadership fai  \n",
      "\n",
      " <<<<<<<:::::::Logistic polarity::::::::::::>>>>  1 \n",
      " there is a leadership crisis acro the world more than ever before have we seen practically how a leadership fai \n",
      "\n",
      "<<<<<:::::::Bayes polarity :::::::::>>>>  0 \n",
      "  vincentrk rfon not a scienti this might be a dumb question but would not this mean that the older popula  \n",
      "\n",
      " <<<<<<<:::::::Logistic polarity::::::::::::>>>>  0 \n",
      "  vincentrk rfon not a scienti this might be a dumb question but would not this mean that the older popula \n"
     ]
    },
    {
     "name": "stdout",
     "output_type": "stream",
     "text": [
      "\n",
      "<<<<<:::::::Bayes polarity :::::::::>>>>  0 \n",
      " bitches are not missing any kickbacks y all got y all newborns at every corona virus function  \n",
      "\n",
      " <<<<<<<:::::::Logistic polarity::::::::::::>>>>  0 \n",
      " bitches are not missing any kickbacks y all got y all newborns at every corona virus function \n",
      "\n",
      "<<<<<:::::::Bayes polarity :::::::::>>>>  0 \n",
      " trump is right corona virus will go away but it may be in years with millions dead and ill the economy shattered  \n",
      "\n",
      " <<<<<<<:::::::Logistic polarity::::::::::::>>>>  0 \n",
      " trump is right corona virus will go away but it may be in years with millions dead and ill the economy shattered \n",
      "\n",
      "<<<<<:::::::Bayes polarity :::::::::>>>>  0 \n",
      " her brea can cure corona virus \n",
      "\n",
      " <<<<<<<:::::::Logistic polarity::::::::::::>>>>  0 \n",
      " her brea can cure corona virus\n",
      "\n",
      "<<<<<:::::::Bayes polarity :::::::::>>>>  1 \n",
      "  realdonaldtrump right look at how american citizens are being snatched off the streets by secret police while exe  \n",
      "\n",
      " <<<<<<<:::::::Logistic polarity::::::::::::>>>>  1 \n",
      "  realdonaldtrump right look at how american citizens are being snatched off the streets by secret police while exe \n",
      "\n",
      "<<<<<:::::::Bayes polarity :::::::::>>>>  1 \n",
      "  newsmelb corona virus will not go away until the things are released murderers of south korean and america  \n",
      "\n",
      " <<<<<<<:::::::Logistic polarity::::::::::::>>>>  1 \n",
      "  newsmelb corona virus will not go away until the things are released murderers of south korean and america \n",
      "\n",
      "<<<<<:::::::Bayes polarity :::::::::>>>>  0 \n",
      "  people recovered from corona today total corona virus recoveries source who situation reports  \n",
      "\n",
      " <<<<<<<:::::::Logistic polarity::::::::::::>>>>  1 \n",
      "  people recovered from corona today total corona virus recoveries source who situation reports \n",
      "\n",
      "<<<<<:::::::Bayes polarity :::::::::>>>>  0 \n",
      " becau if we don t te there is no corona virus right  \n",
      "\n",
      " <<<<<<<:::::::Logistic polarity::::::::::::>>>>  1 \n",
      " becau if we don t te there is no corona virus right \n",
      "\n",
      "<<<<<:::::::Bayes polarity :::::::::>>>>  0 \n",
      "  ktla average people a month have died in la from corona virus overblown number on a daily average over  \n",
      "\n",
      " <<<<<<<:::::::Logistic polarity::::::::::::>>>>  1 \n",
      "  ktla average people a month have died in la from corona virus overblown number on a daily average over \n",
      "\n",
      "<<<<<:::::::Bayes polarity :::::::::>>>>  0 \n",
      "  costacoffee i was told i couldn t get my points put straight on my costa card due to corona virus was given a r  \n",
      "\n",
      " <<<<<<<:::::::Logistic polarity::::::::::::>>>>  1 \n",
      "  costacoffee i was told i couldn t get my points put straight on my costa card due to corona virus was given a r \n",
      "\n",
      "<<<<<:::::::Bayes polarity :::::::::>>>>  1 \n",
      "  sky_waller ju people in the community in england are infected with corona virus a tiny percentage  \n",
      "\n",
      " <<<<<<<:::::::Logistic polarity::::::::::::>>>>  1 \n",
      "  sky_waller ju people in the community in england are infected with corona virus a tiny percentage \n",
      "\n",
      "<<<<<:::::::Bayes polarity :::::::::>>>>  0 \n",
      " someone said biggie is recovering from corona virus bbnaija bbnaijalaunch entanglement bbnaijalockdown manutdvschelsea bbnaija  \n",
      "\n",
      " <<<<<<<:::::::Logistic polarity::::::::::::>>>>  0 \n",
      " someone said biggie is recovering from corona virus bbnaija bbnaijalaunch entanglement bbnaijalockdown manutdvschelsea bbnaija \n",
      "\n",
      "<<<<<:::::::Bayes polarity :::::::::>>>>  0 \n",
      " you know something that contributes to the spread of the corona virus while in public talking if all y all would  \n",
      "\n",
      " <<<<<<<:::::::Logistic polarity::::::::::::>>>>  0 \n",
      " you know something that contributes to the spread of the corona virus while in public talking if all y all would \n",
      "\n",
      "<<<<<:::::::Bayes polarity :::::::::>>>>  0 \n",
      " the coronavirus exploded soderbergh s outbreak became one of the mo watched after years the old epidemic mo  \n",
      "\n",
      " <<<<<<<:::::::Logistic polarity::::::::::::>>>>  1 \n",
      " the coronavirus exploded soderbergh s outbreak became one of the mo watched after years the old epidemic mo \n",
      "\n",
      "<<<<<:::::::Bayes polarity :::::::::>>>>  0 \n",
      " corona virus in ny was nothing more than a form of population control that s exactly why it was invented for by the china government  \n",
      "\n",
      " <<<<<<<:::::::Logistic polarity::::::::::::>>>>  0 \n",
      " corona virus in ny was nothing more than a form of population control that s exactly why it was invented for by the china government \n",
      "\n",
      "<<<<<:::::::Bayes polarity :::::::::>>>>  0 \n",
      "  m getting tested for corona virus either tmrw or the day after lowkey scared \n",
      "\n",
      " <<<<<<<:::::::Logistic polarity::::::::::::>>>>  0 \n",
      "  m getting tested for corona virus either tmrw or the day after lowkey scared\n",
      "\n",
      "<<<<<:::::::Bayes polarity :::::::::>>>>  0 \n",
      "  kaibut there s another virus outside this corona that s causing positive pneumonia te covid is one front b  \n",
      "\n",
      " <<<<<<<:::::::Logistic polarity::::::::::::>>>>  0 \n",
      "  kaibut there s another virus outside this corona that s causing positive pneumonia te covid is one front b \n",
      "\n",
      "<<<<<:::::::Bayes polarity :::::::::>>>>  0 \n",
      "  muslim doctor was beaten badly by r extremi and the reason for the pa four months it is coming that muslims  \n",
      "\n",
      " <<<<<<<:::::::Logistic polarity::::::::::::>>>>  0 \n",
      "  muslim doctor was beaten badly by r extremi and the reason for the pa four months it is coming that muslims \n",
      "\n",
      "<<<<<:::::::Bayes polarity :::::::::>>>>  0 \n",
      " eve mendes stopped me from stoping corona virus and know she gets whwg wg what she was dping \n",
      "\n",
      " <<<<<<<:::::::Logistic polarity::::::::::::>>>>  0 \n",
      " eve mendes stopped me from stoping corona virus and know she gets whwg wg what she was dping\n",
      "\n",
      "<<<<<:::::::Bayes polarity :::::::::>>>>  0 \n",
      " if y all cared as much bout the corona virus as y all did bout them disgusting chicken sandwiches at popeyes we d a  \n",
      "\n",
      " <<<<<<<:::::::Logistic polarity::::::::::::>>>>  0 \n",
      " if y all cared as much bout the corona virus as y all did bout them disgusting chicken sandwiches at popeyes we d a \n",
      "\n",
      "<<<<<:::::::Bayes polarity :::::::::>>>>  1 \n",
      " plea consider signing this petition about data on the new corona virus disea note that it would not take data  \n",
      "\n",
      " <<<<<<<:::::::Logistic polarity::::::::::::>>>>  0 \n",
      " plea consider signing this petition about data on the new corona virus disea note that it would not take data \n",
      "\n",
      "<<<<<:::::::Bayes polarity :::::::::>>>>  1 \n",
      " florida corona virus infections as of deceased the death rate is dead for every people  \n",
      "\n",
      " <<<<<<<:::::::Logistic polarity::::::::::::>>>>  1 \n",
      " florida corona virus infections as of deceased the death rate is dead for every people \n"
     ]
    }
   ],
   "source": [
    "\n",
    "total_posB = 0\n",
    "total_posL= 0\n",
    "total_negL=0\n",
    "total_negB = 0\n",
    "\n",
    "for tweet in list_tweets:\n",
    "    tweetOr=tweet\n",
    "    tweet=re.sub(r\"^https://t.co/[a-zA-z0-9]*\",\" \",tweet)\n",
    "    tweet=re.sub(r\"\\s+https://t.co/[a-zA-Z0-9]*\\s\",\" \",tweet)\n",
    "    tweet=re.sub(r\"\\s+https://t.co/[a-zA-Z0-9]*$\",\" \",tweet)\n",
    "    tweet=tweet.lower()\n",
    "    tweet=re.sub(r\"that's\",\"that is\",tweet)\n",
    "    tweet=re.sub(r\"there's\",\"there is\",tweet)\n",
    "    tweet=re.sub(r\"what's\",\"what is\",tweet)\n",
    "    tweet=re.sub(r\"where's\",\"where is\",tweet)\n",
    "    tweet=re.sub(r\"it's\",\"it is\",tweet)\n",
    "    tweet=re.sub(r\"who's\",\"who is \",tweet)\n",
    "    tweet=re.sub(r\"i'm\",\"i am\",tweet)\n",
    "    tweet=re.sub(r\"she's\",\"she is\",tweet)\n",
    "    tweet=re.sub(r\"they're\",\"they are\",tweet)\n",
    "    tweet=re.sub(r\"ain't\",\"am not\",tweet)\n",
    "    tweet=re.sub(r\"wouldn't\",\"would not\",tweet)\n",
    "    tweet=re.sub(r\"shouldn't\",\"should not\",tweet)\n",
    "    tweet=re.sub(r\"can't\",\"can not\",tweet)\n",
    "    tweet=re.sub(r\"couldn't\",\"could not\",tweet)\n",
    "    tweet=re.sub(r\"won't\",\"will not\",tweet)\n",
    "    tweet=re.sub(r\"\\W\",\" \",tweet)\n",
    "    tweet=re.sub(r\"\\d\",\" \",tweet)\n",
    "    tweet=re.sub(r\"s+[a-z]\\s+\",\" \",tweet)\n",
    "    tweet=re.sub(r\"s+[a-z]\\$\",\" \",tweet)\n",
    "    tweet=re.sub(r\"^[a-z]\\s+\",\" \",tweet)\n",
    "    tweet=re.sub(r\"\\s+\",\" \",tweet)\n",
    "    sentB = clfB.predict(vectorizer.transform([tweet]).toarray())\n",
    "    sentL = clfL.predict(vectorizer.transform([tweet]).toarray())\n",
    "    if sentB[0] == 1:\n",
    "        total_posB+=1    \n",
    "    else:\n",
    "        total_negB+=1\n",
    "        \n",
    "    print(\"\\n<<<<<:::::::Bayes polarity :::::::::>>>> \",sentB[0],'\\n',tweet,'\\n\\n',\"<<<<<<<:::::::Logistic polarity::::::::::::>>>> \",sentL[0],'\\n',tweet)\n",
    "    if sentL[0] == 1:\n",
    "        total_posL+=1    \n",
    "    else:\n",
    "        total_negL+=1\n"
   ]
  },
  {
   "cell_type": "markdown",
   "metadata": {},
   "source": [
    "# Visualization du nombres de positive et négative tweets prédecter par le logistic regressio et Naîve Bayes"
   ]
  },
  {
   "cell_type": "markdown",
   "metadata": {},
   "source": [
    "## Visualisation en utilison le Histograme"
   ]
  },
  {
   "cell_type": "code",
   "execution_count": 42,
   "metadata": {},
   "outputs": [
    {
     "data": {
      "image/png": "[encoded data removed]",
      "text/plain": [
       "<Figure size 432x288 with 1 Axes>"
      ]
     },
     "metadata": {
      "needs_background": "light"
     },
     "output_type": "display_data"
    }
   ],
   "source": [
    "objects = ['Positive_B','Positive_L','Negative_B','Negative_L']\n",
    "y_pos = np.arange(len(objects))\n",
    "plt.ylabel('Number')\n",
    "plt.title('Number of Positive and Negative Tweets using base algorithm and logistic algorithm')\n",
    "\n",
    "plt.bar(y_pos,[total_posB,total_posL,total_negB,total_negL],alpha=0.5,color=['blue','green','red','black'])\n",
    "plt.xticks(y_pos,objects)\n",
    "\n",
    "plt.show()"
   ]
  },
  {
   "cell_type": "markdown",
   "metadata": {},
   "source": [
    "## Visualisation en utilison le pie chart"
   ]
  },
  {
   "cell_type": "code",
   "execution_count": 44,
   "metadata": {},
   "outputs": [
    {
     "data": {
      "image/png": "[encoded data removed]",
      "text/plain": [
       "<Figure size 432x288 with 1 Axes>"
      ]
     },
     "metadata": {},
     "output_type": "display_data"
    }
   ],
   "source": [
    "labels = 'negative_B', 'positive_B', 'negative_L', 'positive_L'\n",
    "sizes = [total_negB, total_posB, total_negL, total_posL]\n",
    "explode = (0.1, 0.1, 0.2, 0)\n",
    "\n",
    "fig1, ax1 = plt.subplots()\n",
    "ax1.pie(sizes, explode=explode, labels=labels, autopct='%1.1f%%',\n",
    "        shadow=True, startangle=90)\n",
    "ax1.axis('equal')\n",
    "plt.title('Number of Positive and Negative Tweets using base algorithm and logistic algorithm')\n",
    "plt.show()"
   ]
  }
 ],
 "metadata": {
  "kernelspec": {
   "display_name": "Python 3",
   "language": "python",
   "name": "python3"
  },
  "language_info": {
   "codemirror_mode": {
    "name": "ipython",
    "version": 3
   },
   "file_extension": ".py",
   "mimetype": "text/x-python",
   "name": "python",
   "nbconvert_exporter": "python",
   "pygments_lexer": "ipython3",
   "version": "3.7.6"
  }
 },
 "nbformat": 4,
 "nbformat_minor": 4
}
